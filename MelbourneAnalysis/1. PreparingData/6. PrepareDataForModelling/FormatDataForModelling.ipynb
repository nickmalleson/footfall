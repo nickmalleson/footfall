{
 "cells": [
  {
   "cell_type": "markdown",
   "id": "5c55f228",
   "metadata": {},
   "source": [
    "# Prepare data in the format for modelling"
   ]
  },
  {
   "cell_type": "code",
   "id": "614fa147",
   "metadata": {
    "ExecuteTime": {
     "end_time": "2024-10-10T11:06:47.269707Z",
     "start_time": "2024-10-10T11:06:42.086488Z"
    }
   },
   "source": [
    "import os\n",
    "import numpy as np\n",
    "\n",
    "import pandas as pd\n",
    "from warnings import simplefilter\n",
    "import sys\n",
    "simplefilter(action='ignore', category=FutureWarning)\n",
    "import geopy.distance\n",
    "\n",
    "def add_sin_and_cos_features(df, column_to_transform):\n",
    "    df['Sin_{}'.format(column_to_transform)] = np.sin(2 * np.pi * df[column_to_transform] / max(df[column_to_transform])) \n",
    "    df['Cos_{}'.format(column_to_transform)] = np.cos(2 * np.pi * df[column_to_transform] / max(df[column_to_transform]))\n",
    "    return df\n",
    "\n",
    "sys.path.append('../../3. Modelling')\n",
    "from Functions import *"
   ],
   "outputs": [],
   "execution_count": 1
  },
  {
   "cell_type": "code",
   "id": "006ffe58",
   "metadata": {
    "ExecuteTime": {
     "end_time": "2024-10-10T11:06:47.275437Z",
     "start_time": "2024-10-10T11:06:47.273829Z"
    }
   },
   "source": [
    "#buffer_sizes = [50, 100, 200, 400, 500, 600, 1000]\n",
    "buffer_size_m = 50"
   ],
   "outputs": [],
   "execution_count": 2
  },
  {
   "cell_type": "markdown",
   "id": "4ef86b98",
   "metadata": {},
   "source": [
    "### Prepare footfall data\n",
    "<u> Including removing outliers:</u>  \n",
    "The model should predict normal footfall. Therefore any days that have extremely high or low footfall should be taken out of the training data. We don't actually want the model to try to predict footfall on unusual days, because the things that make the day unusual (like errors in the camera counters, or the presence of special events) are not captured in the input data.\n",
    "\n",
    "Outliers are detected using the Median Absolute Deviation method."
   ]
  },
  {
   "cell_type": "code",
   "id": "574774e2",
   "metadata": {
    "ExecuteTime": {
     "end_time": "2024-10-10T11:07:39.775357Z",
     "start_time": "2024-10-10T11:06:47.379395Z"
    }
   },
   "source": [
    "# Read in data\n",
    "sensors = pd.read_csv('../../Cleaned_data/SensorData/allsensors.csv')\n",
    "# Create month as number not string\n",
    "sensors['datetime'] =pd.to_datetime(sensors['datetime'], format = '%Y-%m-%d %H:%M:%S')#dayfirst = False)\n",
    "# Keep only data from 2011 onwards\n",
    "sensors= sensors[sensors['year']>2010]\n",
    "# # Create a categrorial variable defining the time of day\n",
    "sensors['time_of_day'] = sensors.apply (lambda row: label_hours(row), axis=1)\n",
    "sensors"
   ],
   "outputs": [
    {
     "name": "stderr",
     "output_type": "stream",
     "text": [
      "/var/folders/bx/3j5z8qc50wl1tcff6xvbf2zh0000gs/T/ipykernel_9739/4006736533.py:2: DtypeWarning: Columns (9,10,11) have mixed types. Specify dtype option on import or set low_memory=False.\n",
      "  sensors = pd.read_csv('../../Cleaned_data/SensorData/allsensors.csv')\n"
     ]
    },
    {
     "data": {
      "text/plain": [
       "         sensor_id                            Name sensor_name  \\\n",
       "0               16            Australia on Collins    Col270_T   \n",
       "1                5                  Princes Bridge     PriNW_T   \n",
       "2               10                  Victoria Point    BouHbr_T   \n",
       "3               15                   State Library        QV_T   \n",
       "4                3               Melbourne Central    Swa295_T   \n",
       "...            ...                             ...         ...   \n",
       "5480637         41  Flinders La-Swanston St (West)       Swa31   \n",
       "5480638          4                Town Hall (West)    Swa123_T   \n",
       "5480639         63                   231 Bourke St    Bou231_T   \n",
       "5480640         42   Grattan St-Swanston St (West)       UM1_T   \n",
       "5480641        107        Flagstaff station (East)   280Will_T   \n",
       "\n",
       "        installation_date status                                         note  \\\n",
       "0              30/03/2009      R  Device moved to location ID 53 (22/09/2015)   \n",
       "1              26/03/2009      A                                          NaN   \n",
       "2              23/04/2009      A                                          NaN   \n",
       "3              25/03/2009      R                                          NaN   \n",
       "4              25/03/2009      A                                          NaN   \n",
       "...                   ...    ...                                          ...   \n",
       "5480637        29/06/2017      A                                          NaN   \n",
       "5480638        23/03/2009      A                                          NaN   \n",
       "5480639        07/01/2020      A                                          NaN   \n",
       "5480640        15/04/2015      A                                          NaN   \n",
       "5480641        2022-10-08    NaN                                          NaN   \n",
       "\n",
       "          Latitude   Longitude                      location Note  ... Status  \\\n",
       "0       -37.815734  144.965210  (-37.81573422, 144.96521044)  NaN  ...    NaN   \n",
       "1       -37.818742  144.967877  (-37.81874249, 144.96787656)  NaN  ...    NaN   \n",
       "2       -37.818765  144.947105  (-37.81876473, 144.94710545)  NaN  ...    NaN   \n",
       "3       -37.810644  144.964471  (-37.81064378, 144.96447132)  NaN  ...    NaN   \n",
       "4       -37.811015  144.964295  (-37.81101523, 144.96429485)  NaN  ...    NaN   \n",
       "...            ...         ...                           ...  ...  ...    ...   \n",
       "5480637 -37.816686  144.966897  (-37.81668633, 144.96689733)  NaN  ...    NaN   \n",
       "5480638 -37.814880  144.966088   (-37.81487988, 144.9660878)  NaN  ...    NaN   \n",
       "5480639 -37.813331  144.966756  (-37.81333081, 144.96675572)  NaN  ...    NaN   \n",
       "5480640 -37.800086  144.963864  (-37.80008565, 144.96386412)  NaN  ...    NaN   \n",
       "5480641 -37.812463  144.956902  (-37.81246271, 144.95690188)  NaN  ...      A   \n",
       "\n",
       "                   datetime  year  month  mdate       day time  hourly_counts  \\\n",
       "0       2011-01-01 00:00:00  2011      1      1  Saturday    0            744   \n",
       "1       2011-01-01 00:00:00  2011      1      1  Saturday    0           5021   \n",
       "2       2011-01-01 00:00:00  2011      1      1  Saturday    0            518   \n",
       "3       2011-01-01 00:00:00  2011      1      1  Saturday    0           1581   \n",
       "4       2011-01-01 00:00:00  2011      1      1  Saturday    0           2547   \n",
       "...                     ...   ...    ...    ...       ...  ...            ...   \n",
       "5480637 2024-09-17 03:00:00  2024      9     17   Tuesday    3             20   \n",
       "5480638 2024-09-17 03:00:00  2024      9     17   Tuesday    3             14   \n",
       "5480639 2024-09-17 03:00:00  2024      9     17   Tuesday    3              5   \n",
       "5480640 2024-09-17 03:00:00  2024      9     17   Tuesday    3              9   \n",
       "5480641 2024-09-17 03:00:00  2024      9     17   Tuesday    3              1   \n",
       "\n",
       "         new_sensor  time_of_day  \n",
       "0             False    nighttime  \n",
       "1             False    nighttime  \n",
       "2             False    nighttime  \n",
       "3             False    nighttime  \n",
       "4             False    nighttime  \n",
       "...             ...          ...  \n",
       "5480637       False    nighttime  \n",
       "5480638       False    nighttime  \n",
       "5480639       False    nighttime  \n",
       "5480640       False    nighttime  \n",
       "5480641        True    nighttime  \n",
       "\n",
       "[5480642 rows x 21 columns]"
      ],
      "text/html": [
       "<div>\n",
       "<style scoped>\n",
       "    .dataframe tbody tr th:only-of-type {\n",
       "        vertical-align: middle;\n",
       "    }\n",
       "\n",
       "    .dataframe tbody tr th {\n",
       "        vertical-align: top;\n",
       "    }\n",
       "\n",
       "    .dataframe thead th {\n",
       "        text-align: right;\n",
       "    }\n",
       "</style>\n",
       "<table border=\"1\" class=\"dataframe\">\n",
       "  <thead>\n",
       "    <tr style=\"text-align: right;\">\n",
       "      <th></th>\n",
       "      <th>sensor_id</th>\n",
       "      <th>Name</th>\n",
       "      <th>sensor_name</th>\n",
       "      <th>installation_date</th>\n",
       "      <th>status</th>\n",
       "      <th>note</th>\n",
       "      <th>Latitude</th>\n",
       "      <th>Longitude</th>\n",
       "      <th>location</th>\n",
       "      <th>Note</th>\n",
       "      <th>...</th>\n",
       "      <th>Status</th>\n",
       "      <th>datetime</th>\n",
       "      <th>year</th>\n",
       "      <th>month</th>\n",
       "      <th>mdate</th>\n",
       "      <th>day</th>\n",
       "      <th>time</th>\n",
       "      <th>hourly_counts</th>\n",
       "      <th>new_sensor</th>\n",
       "      <th>time_of_day</th>\n",
       "    </tr>\n",
       "  </thead>\n",
       "  <tbody>\n",
       "    <tr>\n",
       "      <th>0</th>\n",
       "      <td>16</td>\n",
       "      <td>Australia on Collins</td>\n",
       "      <td>Col270_T</td>\n",
       "      <td>30/03/2009</td>\n",
       "      <td>R</td>\n",
       "      <td>Device moved to location ID 53 (22/09/2015)</td>\n",
       "      <td>-37.815734</td>\n",
       "      <td>144.965210</td>\n",
       "      <td>(-37.81573422, 144.96521044)</td>\n",
       "      <td>NaN</td>\n",
       "      <td>...</td>\n",
       "      <td>NaN</td>\n",
       "      <td>2011-01-01 00:00:00</td>\n",
       "      <td>2011</td>\n",
       "      <td>1</td>\n",
       "      <td>1</td>\n",
       "      <td>Saturday</td>\n",
       "      <td>0</td>\n",
       "      <td>744</td>\n",
       "      <td>False</td>\n",
       "      <td>nighttime</td>\n",
       "    </tr>\n",
       "    <tr>\n",
       "      <th>1</th>\n",
       "      <td>5</td>\n",
       "      <td>Princes Bridge</td>\n",
       "      <td>PriNW_T</td>\n",
       "      <td>26/03/2009</td>\n",
       "      <td>A</td>\n",
       "      <td>NaN</td>\n",
       "      <td>-37.818742</td>\n",
       "      <td>144.967877</td>\n",
       "      <td>(-37.81874249, 144.96787656)</td>\n",
       "      <td>NaN</td>\n",
       "      <td>...</td>\n",
       "      <td>NaN</td>\n",
       "      <td>2011-01-01 00:00:00</td>\n",
       "      <td>2011</td>\n",
       "      <td>1</td>\n",
       "      <td>1</td>\n",
       "      <td>Saturday</td>\n",
       "      <td>0</td>\n",
       "      <td>5021</td>\n",
       "      <td>False</td>\n",
       "      <td>nighttime</td>\n",
       "    </tr>\n",
       "    <tr>\n",
       "      <th>2</th>\n",
       "      <td>10</td>\n",
       "      <td>Victoria Point</td>\n",
       "      <td>BouHbr_T</td>\n",
       "      <td>23/04/2009</td>\n",
       "      <td>A</td>\n",
       "      <td>NaN</td>\n",
       "      <td>-37.818765</td>\n",
       "      <td>144.947105</td>\n",
       "      <td>(-37.81876473, 144.94710545)</td>\n",
       "      <td>NaN</td>\n",
       "      <td>...</td>\n",
       "      <td>NaN</td>\n",
       "      <td>2011-01-01 00:00:00</td>\n",
       "      <td>2011</td>\n",
       "      <td>1</td>\n",
       "      <td>1</td>\n",
       "      <td>Saturday</td>\n",
       "      <td>0</td>\n",
       "      <td>518</td>\n",
       "      <td>False</td>\n",
       "      <td>nighttime</td>\n",
       "    </tr>\n",
       "    <tr>\n",
       "      <th>3</th>\n",
       "      <td>15</td>\n",
       "      <td>State Library</td>\n",
       "      <td>QV_T</td>\n",
       "      <td>25/03/2009</td>\n",
       "      <td>R</td>\n",
       "      <td>NaN</td>\n",
       "      <td>-37.810644</td>\n",
       "      <td>144.964471</td>\n",
       "      <td>(-37.81064378, 144.96447132)</td>\n",
       "      <td>NaN</td>\n",
       "      <td>...</td>\n",
       "      <td>NaN</td>\n",
       "      <td>2011-01-01 00:00:00</td>\n",
       "      <td>2011</td>\n",
       "      <td>1</td>\n",
       "      <td>1</td>\n",
       "      <td>Saturday</td>\n",
       "      <td>0</td>\n",
       "      <td>1581</td>\n",
       "      <td>False</td>\n",
       "      <td>nighttime</td>\n",
       "    </tr>\n",
       "    <tr>\n",
       "      <th>4</th>\n",
       "      <td>3</td>\n",
       "      <td>Melbourne Central</td>\n",
       "      <td>Swa295_T</td>\n",
       "      <td>25/03/2009</td>\n",
       "      <td>A</td>\n",
       "      <td>NaN</td>\n",
       "      <td>-37.811015</td>\n",
       "      <td>144.964295</td>\n",
       "      <td>(-37.81101523, 144.96429485)</td>\n",
       "      <td>NaN</td>\n",
       "      <td>...</td>\n",
       "      <td>NaN</td>\n",
       "      <td>2011-01-01 00:00:00</td>\n",
       "      <td>2011</td>\n",
       "      <td>1</td>\n",
       "      <td>1</td>\n",
       "      <td>Saturday</td>\n",
       "      <td>0</td>\n",
       "      <td>2547</td>\n",
       "      <td>False</td>\n",
       "      <td>nighttime</td>\n",
       "    </tr>\n",
       "    <tr>\n",
       "      <th>...</th>\n",
       "      <td>...</td>\n",
       "      <td>...</td>\n",
       "      <td>...</td>\n",
       "      <td>...</td>\n",
       "      <td>...</td>\n",
       "      <td>...</td>\n",
       "      <td>...</td>\n",
       "      <td>...</td>\n",
       "      <td>...</td>\n",
       "      <td>...</td>\n",
       "      <td>...</td>\n",
       "      <td>...</td>\n",
       "      <td>...</td>\n",
       "      <td>...</td>\n",
       "      <td>...</td>\n",
       "      <td>...</td>\n",
       "      <td>...</td>\n",
       "      <td>...</td>\n",
       "      <td>...</td>\n",
       "      <td>...</td>\n",
       "      <td>...</td>\n",
       "    </tr>\n",
       "    <tr>\n",
       "      <th>5480637</th>\n",
       "      <td>41</td>\n",
       "      <td>Flinders La-Swanston St (West)</td>\n",
       "      <td>Swa31</td>\n",
       "      <td>29/06/2017</td>\n",
       "      <td>A</td>\n",
       "      <td>NaN</td>\n",
       "      <td>-37.816686</td>\n",
       "      <td>144.966897</td>\n",
       "      <td>(-37.81668633, 144.96689733)</td>\n",
       "      <td>NaN</td>\n",
       "      <td>...</td>\n",
       "      <td>NaN</td>\n",
       "      <td>2024-09-17 03:00:00</td>\n",
       "      <td>2024</td>\n",
       "      <td>9</td>\n",
       "      <td>17</td>\n",
       "      <td>Tuesday</td>\n",
       "      <td>3</td>\n",
       "      <td>20</td>\n",
       "      <td>False</td>\n",
       "      <td>nighttime</td>\n",
       "    </tr>\n",
       "    <tr>\n",
       "      <th>5480638</th>\n",
       "      <td>4</td>\n",
       "      <td>Town Hall (West)</td>\n",
       "      <td>Swa123_T</td>\n",
       "      <td>23/03/2009</td>\n",
       "      <td>A</td>\n",
       "      <td>NaN</td>\n",
       "      <td>-37.814880</td>\n",
       "      <td>144.966088</td>\n",
       "      <td>(-37.81487988, 144.9660878)</td>\n",
       "      <td>NaN</td>\n",
       "      <td>...</td>\n",
       "      <td>NaN</td>\n",
       "      <td>2024-09-17 03:00:00</td>\n",
       "      <td>2024</td>\n",
       "      <td>9</td>\n",
       "      <td>17</td>\n",
       "      <td>Tuesday</td>\n",
       "      <td>3</td>\n",
       "      <td>14</td>\n",
       "      <td>False</td>\n",
       "      <td>nighttime</td>\n",
       "    </tr>\n",
       "    <tr>\n",
       "      <th>5480639</th>\n",
       "      <td>63</td>\n",
       "      <td>231 Bourke St</td>\n",
       "      <td>Bou231_T</td>\n",
       "      <td>07/01/2020</td>\n",
       "      <td>A</td>\n",
       "      <td>NaN</td>\n",
       "      <td>-37.813331</td>\n",
       "      <td>144.966756</td>\n",
       "      <td>(-37.81333081, 144.96675572)</td>\n",
       "      <td>NaN</td>\n",
       "      <td>...</td>\n",
       "      <td>NaN</td>\n",
       "      <td>2024-09-17 03:00:00</td>\n",
       "      <td>2024</td>\n",
       "      <td>9</td>\n",
       "      <td>17</td>\n",
       "      <td>Tuesday</td>\n",
       "      <td>3</td>\n",
       "      <td>5</td>\n",
       "      <td>False</td>\n",
       "      <td>nighttime</td>\n",
       "    </tr>\n",
       "    <tr>\n",
       "      <th>5480640</th>\n",
       "      <td>42</td>\n",
       "      <td>Grattan St-Swanston St (West)</td>\n",
       "      <td>UM1_T</td>\n",
       "      <td>15/04/2015</td>\n",
       "      <td>A</td>\n",
       "      <td>NaN</td>\n",
       "      <td>-37.800086</td>\n",
       "      <td>144.963864</td>\n",
       "      <td>(-37.80008565, 144.96386412)</td>\n",
       "      <td>NaN</td>\n",
       "      <td>...</td>\n",
       "      <td>NaN</td>\n",
       "      <td>2024-09-17 03:00:00</td>\n",
       "      <td>2024</td>\n",
       "      <td>9</td>\n",
       "      <td>17</td>\n",
       "      <td>Tuesday</td>\n",
       "      <td>3</td>\n",
       "      <td>9</td>\n",
       "      <td>False</td>\n",
       "      <td>nighttime</td>\n",
       "    </tr>\n",
       "    <tr>\n",
       "      <th>5480641</th>\n",
       "      <td>107</td>\n",
       "      <td>Flagstaff station (East)</td>\n",
       "      <td>280Will_T</td>\n",
       "      <td>2022-10-08</td>\n",
       "      <td>NaN</td>\n",
       "      <td>NaN</td>\n",
       "      <td>-37.812463</td>\n",
       "      <td>144.956902</td>\n",
       "      <td>(-37.81246271, 144.95690188)</td>\n",
       "      <td>NaN</td>\n",
       "      <td>...</td>\n",
       "      <td>A</td>\n",
       "      <td>2024-09-17 03:00:00</td>\n",
       "      <td>2024</td>\n",
       "      <td>9</td>\n",
       "      <td>17</td>\n",
       "      <td>Tuesday</td>\n",
       "      <td>3</td>\n",
       "      <td>1</td>\n",
       "      <td>True</td>\n",
       "      <td>nighttime</td>\n",
       "    </tr>\n",
       "  </tbody>\n",
       "</table>\n",
       "<p>5480642 rows × 21 columns</p>\n",
       "</div>"
      ]
     },
     "execution_count": 3,
     "metadata": {},
     "output_type": "execute_result"
    }
   ],
   "execution_count": 3
  },
  {
   "cell_type": "markdown",
   "id": "fb5cb56e",
   "metadata": {},
   "source": [
    "### Remove outliers (sensor by sensor)"
   ]
  },
  {
   "cell_type": "code",
   "id": "7e7d6e90",
   "metadata": {
    "ExecuteTime": {
     "end_time": "2024-10-10T11:08:12.147812Z",
     "start_time": "2024-10-10T11:07:40.338626Z"
    }
   },
   "source": [
    "pcts = []\n",
    "all_sensors = pd.DataFrame({})\n",
    "for sensor_id in np.unique(sensors['sensor_id']):\n",
    "    #print(sensor_id)\n",
    "    this_sensor = sensors[sensors['sensor_id']==sensor_id]\n",
    "    this_sensor, outliers, pct = remove_outliers(this_sensor)\n",
    "    pcts.append(pct)\n",
    "    all_sensors = pd.concat([all_sensors, this_sensor])"
   ],
   "outputs": [],
   "execution_count": 4
  },
  {
   "cell_type": "code",
   "id": "0a51f5cb",
   "metadata": {
    "ExecuteTime": {
     "end_time": "2024-10-10T11:08:12.170649Z",
     "start_time": "2024-10-10T11:08:12.169016Z"
    }
   },
   "source": [
    "sensors= all_sensors"
   ],
   "outputs": [],
   "execution_count": 5
  },
  {
   "cell_type": "code",
   "id": "9ac9219d",
   "metadata": {
    "ExecuteTime": {
     "end_time": "2024-10-10T11:08:12.523679Z",
     "start_time": "2024-10-10T11:08:12.186475Z"
    }
   },
   "source": [
    "# Drop unneeded columns\n",
    "sensors=sensors.drop(['Latitude', 'Longitude', 'location', 'mdate'], axis=1)\n",
    "# Check the data\n",
    "sensors.head()\n",
    "len(sensors)"
   ],
   "outputs": [
    {
     "data": {
      "text/plain": [
       "5436604"
      ]
     },
     "execution_count": 6,
     "metadata": {},
     "output_type": "execute_result"
    }
   ],
   "execution_count": 6
  },
  {
   "cell_type": "markdown",
   "id": "fe72ace2",
   "metadata": {},
   "source": [
    "### Inspect outliers which have been removed"
   ]
  },
  {
   "cell_type": "code",
   "id": "acdc79d1",
   "metadata": {
    "ExecuteTime": {
     "end_time": "2024-10-10T11:08:13.406169Z",
     "start_time": "2024-10-10T11:08:13.404584Z"
    }
   },
   "source": [
    "# # Look at outliers from particular day (which have reason to believe might have incldued outliers)\n",
    "# t = [pd.to_datetime('2020-03-07 13:00:00')]\n",
    "# this_day = outliers[outliers['datetime'].isin(t)]#[2255323]['datetime']\n",
    "# # Look at biggest outliers\n",
    "# test = outliers.nlargest(5, 'hourly_counts')\n",
    "# # outliers[outliers['sensor_id']==57]\n",
    "# # fig,ax=plt.subplots(figsize=(4,10))\n",
    "# # outliers['sensor_id'].value_counts().sort_values().plot(kind = 'barh',ax=ax)\n",
    "# test"
   ],
   "outputs": [],
   "execution_count": 7
  },
  {
   "cell_type": "markdown",
   "id": "09504d7b",
   "metadata": {},
   "source": [
    "### Inspecting sensor which has a lot of the outliers removed"
   ]
  },
  {
   "cell_type": "code",
   "id": "9ea9eccb",
   "metadata": {
    "ExecuteTime": {
     "end_time": "2024-10-10T11:08:14.218007Z",
     "start_time": "2024-10-10T11:08:14.216408Z"
    }
   },
   "source": [
    "# sensor_57 = sensors[sensors['sensor_id']==57]\n",
    "# # Filter by a single date\n",
    "# sensor_57_oneday = sensor_57[sensor_57['datetime'].dt.strftime('%Y-%m-%d') == \"2019-11-15\"]\n",
    "# sensor_57_oneday.index=sensor_57_oneday['time']\n",
    "# fig, ax = plt.subplots(figsize = (5,4), sharex = True)\n",
    "# fig = sensor_57_oneday['hourly_counts'].plot(ax=ax, color='darkred', linewidth=2, legend =True)"
   ],
   "outputs": [],
   "execution_count": 8
  },
  {
   "cell_type": "markdown",
   "id": "bf563693",
   "metadata": {},
   "source": [
    "## add date variables"
   ]
  },
  {
   "cell_type": "code",
   "id": "622560dc",
   "metadata": {
    "ExecuteTime": {
     "end_time": "2024-10-10T11:08:15.226013Z",
     "start_time": "2024-10-10T11:08:15.009005Z"
    }
   },
   "source": [
    "sensors['day_of_month_num'] = sensors['datetime'].dt.day\n",
    "sensors['weekday_num'] = sensors['datetime'].dt.weekday +1\n",
    "sensors['month_num'] = sensors['datetime'].dt.month"
   ],
   "outputs": [],
   "execution_count": 9
  },
  {
   "cell_type": "markdown",
   "id": "64a9efa4",
   "metadata": {},
   "source": [
    "### Join public holiday and weather data to sensor data (WHY DO NUMBER OF ROWS INCREASE SLIGHTLY?)"
   ]
  },
  {
   "metadata": {},
   "cell_type": "raw",
   "source": [
    "sensors_with_features = sensors.merge(pd.read_csv('../../Cleaned_data/WeatherData/weather_data_allyears.csv', parse_dates=['datetime']), on='datetime', how='left')\n",
    "sensors_with_features = sensors_with_features.merge(pd.read_csv('../../Cleaned_data/WeatherData/DailyRainfallData.csv', parse_dates=['datetime']), on='datetime', how='left')\n",
    "sensors_with_features = sensors_with_features.merge(pd.read_csv('../../Cleaned_data/HolidaysData/publicholidays.csv', parse_dates=['datetime']),how='left', on='datetime')\n",
    "sensors_with_features = sensors_with_features.merge(pd.read_csv('../../Cleaned_data/HolidaysData/schoolholidays.csv', parse_dates=['datetime']),how='left', on='datetime')\n",
    "sensors_with_features = sensors_with_features.merge(pd.read_csv('../../Cleaned_data/SpatialFeatures/sensors_betweenness.csv'),how='left', on='sensor_id')\n",
    "sensors_with_features = sensors_with_features.merge(pd.read_csv('../../Cleaned_data/FeaturesNearSensors/num_features_near_sensors_{}.csv'.format(buffer_size_m), index_col=0) ,how='left', on='sensor_id')\n",
    "sensors_with_features = sensors_with_features.merge(pd.read_csv('../../Cleaned_data/FeaturesNearSensors/feature_subtypes_near_sensors_{}.csv'.format(buffer_size_m), index_col=0) ,how='left', on='sensor_id')"
   ],
   "id": "7ce8702bbe3b3b38"
  },
  {
   "metadata": {},
   "cell_type": "markdown",
   "source": "(_Code below added by NM because code above wasn't able to parse the dates correctly - probably a change in library versions_)",
   "id": "31de7e6436c71ea6"
  },
  {
   "metadata": {
    "ExecuteTime": {
     "end_time": "2024-10-10T11:08:27.113902Z",
     "start_time": "2024-10-10T11:08:16.029278Z"
    }
   },
   "cell_type": "code",
   "source": [
    "# Load and convert datetime columns explicitly\n",
    "weather_data = pd.read_csv('../../Cleaned_data/WeatherData/weather_data_allyears.csv', parse_dates=['datetime'])\n",
    "daily_rainfall = pd.read_csv('../../Cleaned_data/WeatherData/DailyRainfallData.csv', parse_dates=['datetime'])\n",
    "public_holidays = pd.read_csv('../../Cleaned_data/HolidaysData/publicholidays.csv', parse_dates=['datetime'])\n",
    "school_holidays = pd.read_csv('../../Cleaned_data/HolidaysData/schoolholidays.csv', parse_dates=['datetime'])\n",
    "\n",
    "# Ensure datetime columns are in the correct format\n",
    "weather_data['datetime'] = pd.to_datetime(weather_data['datetime'], dayfirst=True)\n",
    "daily_rainfall['datetime'] = pd.to_datetime(daily_rainfall['datetime'], dayfirst=True)\n",
    "public_holidays['datetime'] = pd.to_datetime(public_holidays['datetime'], dayfirst=True)\n",
    "school_holidays['datetime'] = pd.to_datetime(school_holidays['datetime'], dayfirst=True)\n",
    "\n",
    "# Merge the dataframes\n",
    "sensors_with_features = sensors.merge(weather_data, on='datetime', how='left')\n",
    "sensors_with_features = sensors_with_features.merge(daily_rainfall, on='datetime', how='left')\n",
    "sensors_with_features = sensors_with_features.merge(public_holidays, on='datetime', how='left')\n",
    "sensors_with_features = sensors_with_features.merge(school_holidays, on='datetime', how='left')\n",
    "\n",
    "# Also bring in the features near the sensors (no time column co can be merged directly)\n",
    "sensors_with_features = sensors_with_features.merge(\n",
    "    pd.read_csv('../../Cleaned_data/SpatialFeatures/sensors_betweenness.csv'), how='left', on='sensor_id')\n",
    "sensors_with_features = sensors_with_features.merge(\n",
    "    pd.read_csv('../../Cleaned_data/FeaturesNearSensors/num_features_near_sensors_{}.csv'.format(buffer_size_m), index_col=0), how='left', on='sensor_id')\n",
    "sensors_with_features = sensors_with_features.merge(\n",
    "    pd.read_csv('../../Cleaned_data/FeaturesNearSensors/feature_subtypes_near_sensors_{}.csv'.format(buffer_size_m), index_col=0), how='left', on='sensor_id')"
   ],
   "id": "8d1fcb059b529948",
   "outputs": [],
   "execution_count": 10
  },
  {
   "cell_type": "code",
   "id": "f90f9d14",
   "metadata": {
    "ExecuteTime": {
     "end_time": "2024-10-10T11:08:28.835887Z",
     "start_time": "2024-10-10T11:08:28.833820Z"
    }
   },
   "source": [
    "print(\"Length is now: \" , len(sensors_with_features))"
   ],
   "outputs": [
    {
     "name": "stdout",
     "output_type": "stream",
     "text": [
      "Length is now:  5436621\n"
     ]
    }
   ],
   "execution_count": 11
  },
  {
   "cell_type": "markdown",
   "id": "24a4ea08",
   "metadata": {},
   "source": [
    "### Add average number of floors of building in vicinity, for correct year "
   ]
  },
  {
   "cell_type": "code",
   "id": "31b6f9b5",
   "metadata": {
    "ExecuteTime": {
     "end_time": "2024-10-10T11:13:55.810731Z",
     "start_time": "2024-10-10T11:08:30.367648Z"
    }
   },
   "source": [
    "sensors_with_features['avg_n_floors'] = sensors_with_features.apply (lambda row: select_n_floors(row), axis=1)\n",
    "sensors_with_features = sensors_with_features[sensors_with_features.columns.drop(list(sensors_with_features.filter(regex='avg_n_floors_')))]"
   ],
   "outputs": [],
   "execution_count": 12
  },
  {
   "cell_type": "markdown",
   "id": "c06562c2",
   "metadata": {},
   "source": [
    "### Add buildings (correctly for the year the data relates to)"
   ]
  },
  {
   "cell_type": "code",
   "id": "09781314",
   "metadata": {
    "ExecuteTime": {
     "end_time": "2024-10-10T11:19:31.377243Z",
     "start_time": "2024-10-10T11:13:58.570553Z"
    }
   },
   "source": [
    "# FOR SENSORS WITH FEATURES\n",
    "sensors_with_features['buildings'] = sensors_with_features.apply (lambda row: select_buildings(row), axis=1).copy()\n",
    "sensors_with_features= sensors_with_features.drop(['buildings_2010', 'buildings_2011','buildings_2012', 'buildings_2013',\n",
    "                                                  'buildings_2014','buildings_2015','buildings_2016','buildings_2017',\n",
    "                                                  'buildings_2018', 'buildings_2019', 'buildings_2020'], axis =1)\n",
    "# FOR SENSORS WITH SUBFEATURES\n",
    "# Create a dataframe containing just the building subttypes for the year that this row refers to\n",
    "temp = pd.DataFrame(None)\n",
    "# For each year, get the data for just that year\n",
    "for year in range(2011,2022+1):   \n",
    "    # Get just footfall data for this year\n",
    "    this_year = sensors_with_features[sensors_with_features['year'] == year]\n",
    "    # If year is over 2020 then set the year to 2020 for the purposes of selecting the building data \n",
    "    if year > 2020:\n",
    "        year = 2020\n",
    "    # Get just the building columns for this year\n",
    "    buildings_this_yr = this_year.filter(like='{}'.format(year))\n",
    "    # Drop all the building subtype columns from the row (and the bikes) \n",
    "    this_year = this_year[this_year.columns.drop(list(this_year.filter(regex='bikes|buildings_')))]\n",
    "     # Join the row without any buildings, back to this row \n",
    "    this_year = pd.concat([this_year, buildings_this_yr], axis=1)\n",
    "    # Rename -- ??\n",
    "    this_year.columns = this_year.columns.str.replace(r'_{}'.format(year), '')\n",
    "    # Join to dataframe which will store data for all years eventually\n",
    "    temp = pd.concat([temp, this_year])\n",
    "sensors_with_features = temp.copy()"
   ],
   "outputs": [],
   "execution_count": 13
  },
  {
   "cell_type": "markdown",
   "id": "55504128",
   "metadata": {},
   "source": [
    "### Add dummy variables for calendar variables \n",
    "(Not doing this anymore as creating cos and sin variables)"
   ]
  },
  {
   "cell_type": "code",
   "id": "e408c351",
   "metadata": {
    "ExecuteTime": {
     "end_time": "2024-10-10T11:19:35.564108Z",
     "start_time": "2024-10-10T11:19:34.392636Z"
    }
   },
   "source": [
    "# sensors_with_features=convert_df_variables_to_dummy(sensors_with_features, ['day', 'month', 'year', 'time'])\n",
    "# sensors_with_features=convert_df_variables_to_dummy(sensors_with_features, ['time_of_day'])\n",
    "# sensors_with_features = sensors_with_features.drop(['datetime'],axis=1)\n",
    "\n",
    "### Date based variables: Option 2 - Create Dummy Variables\n",
    "for date_col in ['day', 'month',]:\n",
    "    date_col_dummy =  pd.get_dummies(sensors_with_features[date_col], drop_first = True)\n",
    "    if date_col =='month':\n",
    "        date_col_dummy.columns= prepend(date_col_dummy.columns.values, 'month_')\n",
    "    # if date_col =='year':\n",
    "        # date_col_dummy.columns= prepend(date_col_dummy.columns.values, 'year_')\n",
    "    sensors_with_features = pd.concat([sensors_with_features, date_col_dummy],axis=1)\n",
    "    del sensors_with_features[date_col]"
   ],
   "outputs": [],
   "execution_count": 14
  },
  {
   "cell_type": "markdown",
   "id": "d1bc43ef",
   "metadata": {},
   "source": [
    "### Create sin/cos variables to represent cyclical features"
   ]
  },
  {
   "cell_type": "code",
   "id": "51a55eea",
   "metadata": {
    "ExecuteTime": {
     "end_time": "2024-10-10T11:19:38.491006Z",
     "start_time": "2024-10-10T11:19:37.342402Z"
    }
   },
   "source": [
    "# Time refers to the hour of the day 0-23 (makes sense that this is cyclical - relationship between 23 and 0)\n",
    "sensors_with_features = add_sin_and_cos_features(sensors_with_features, 'time')\n",
    "# Month number from 1-12 (makes sense that this is cyclical - relationship between 12 and 1)\n",
    "sensors_with_features = add_sin_and_cos_features(sensors_with_features, 'month_num')\n",
    "# Weekday number from 1-7 (maybe doesnt make sense that this is cyclical - doesn't really follow a logical pattern?\n",
    "sensors_with_features = add_sin_and_cos_features(sensors_with_features, 'weekday_num')"
   ],
   "outputs": [],
   "execution_count": 15
  },
  {
   "cell_type": "code",
   "id": "431335c7",
   "metadata": {
    "ExecuteTime": {
     "end_time": "2024-10-10T11:19:47.722149Z",
     "start_time": "2024-10-10T11:19:40.321428Z"
    }
   },
   "source": [
    "ax = sensors_with_features.plot.scatter('Sin_weekday_num', 'Cos_weekday_num').set_aspect('equal')"
   ],
   "outputs": [
    {
     "data": {
      "text/plain": [
       "<Figure size 640x480 with 1 Axes>"
      ],
      "image/png": "[encoded data removed]"
     },
     "metadata": {},
     "output_type": "display_data"
    }
   ],
   "execution_count": 16
  },
  {
   "cell_type": "markdown",
   "id": "7b536828",
   "metadata": {},
   "source": [
    "### Replace NaNs with 0s"
   ]
  },
  {
   "cell_type": "code",
   "id": "9742e37a",
   "metadata": {
    "ExecuteTime": {
     "end_time": "2024-10-10T11:19:51.941574Z",
     "start_time": "2024-10-10T11:19:49.588315Z"
    }
   },
   "source": [
    "sensors_with_features= sensors_with_features.fillna(0)"
   ],
   "outputs": [],
   "execution_count": 17
  },
  {
   "cell_type": "markdown",
   "id": "704467ef",
   "metadata": {},
   "source": [
    "## Create aggregated data"
   ]
  },
  {
   "cell_type": "code",
   "id": "0cef5619",
   "metadata": {
    "ExecuteTime": {
     "end_time": "2024-10-10T11:19:55.513088Z",
     "start_time": "2024-10-10T11:19:55.511311Z"
    }
   },
   "source": [
    "# ### Filter to include just sensors which we know have quite complete data \n",
    "# data = sensors_with_features[sensors_with_features['sensor_id'].isin([2,6,9,10,14,18])]\n",
    "# data.reset_index(inplace=True, drop = True)\n",
    "\n",
    "# # Get just this hourly counts\n",
    "# hourly_counts = data[['datetime', \"hourly_counts\"]]\n",
    "# # Get the sum of all values for one hour\n",
    "# summed_hourly_counts = hourly_counts.groupby(\"datetime\").sum()\n",
    "# # reset index (for joining)\n",
    "# summed_hourly_counts.reset_index(inplace = True, drop = True)\n",
    "\n",
    "# # Get just the features\n",
    "# features = data[['datetime','Temp', 'Humidity', 'Pressure', 'Rain', 'WindSpeed',\n",
    "#        'public_holiday','school_holiday','Sin_time', 'Cos_time', 'Sin_month_num', 'Cos_month_num', 'Sin_weekday_num', 'Cos_weekday_num']]\n",
    "# # Keep only one version of each row (should all be the same)\n",
    "# features = features.drop_duplicates(keep='last')\n",
    "# # reset index (for joining)\n",
    "# features.reset_index(inplace = True, drop = True)\n",
    "\n",
    "# # Join features to aggregated count values\n",
    "# aggregated = pd.concat([summed_hourly_counts, features], axis=1, join='inner')"
   ],
   "outputs": [],
   "execution_count": 18
  },
  {
   "cell_type": "code",
   "id": "2a279d2b",
   "metadata": {
    "ExecuteTime": {
     "end_time": "2024-10-10T11:19:55.523626Z",
     "start_time": "2024-10-10T11:19:55.522101Z"
    }
   },
   "source": [
    "# for column in sensors_with_features.columns:\n",
    "#     print(column, np.nanmax(sensors_with_features[column]))"
   ],
   "outputs": [],
   "execution_count": 19
  },
  {
   "cell_type": "markdown",
   "id": "bc0536d9",
   "metadata": {},
   "source": [
    "### Remove time variables no longer required"
   ]
  },
  {
   "cell_type": "code",
   "id": "97e941fd",
   "metadata": {
    "ExecuteTime": {
     "end_time": "2024-10-10T11:19:57.289606Z",
     "start_time": "2024-10-10T11:19:57.287534Z"
    }
   },
   "source": [
    "# sensors_with_features = sensors_with_features.drop([ 'Sin_month_num', 'Cos_month_num', 'Sin_weekday_num',\n",
    "#        'Cos_weekday_num',],axis=1)"
   ],
   "outputs": [],
   "execution_count": 20
  },
  {
   "cell_type": "markdown",
   "id": "c9fea2ac",
   "metadata": {},
   "source": [
    "### Add distance from centre as a variable"
   ]
  },
  {
   "cell_type": "code",
   "id": "fcc6b531",
   "metadata": {
    "ExecuteTime": {
     "end_time": "2024-10-10T11:19:59.190023Z",
     "start_time": "2024-10-10T11:19:59.157556Z"
    }
   },
   "source": [
    "### Read in Melbourne sensor location spatial data\n",
    "melbourne_sensors = pd.read_csv(\"../../Cleaned_data/SensorData/sensor_locations.csv\")\n",
    "melbourne_sensors.rename(columns={'sensor_description': 'Name'}, inplace = True)\n",
    "melbourne_sensors = melbourne_sensors.drop_duplicates('sensor_id', keep='first')\n",
    "\n",
    "# Coordinates of 'centre' of CBD (done on google maps)\n",
    "coords_1 = (-37.812187461761596, 144.962265054567)\n",
    "distances =[]\n",
    "for row_number in range(0,len(melbourne_sensors)):\n",
    "    coords_2 = (melbourne_sensors['Latitude'][row_number], melbourne_sensors['Longitude'][row_number])\n",
    "    distances.append(geopy.distance.geodesic(coords_1, coords_2).km)\n",
    "    \n",
    "melbourne_sensors['distance_from_centre']=distances\n",
    "melbourne_sensors=melbourne_sensors[['sensor_id','distance_from_centre']]"
   ],
   "outputs": [],
   "execution_count": 21
  },
  {
   "cell_type": "code",
   "id": "37c6c067",
   "metadata": {
    "ExecuteTime": {
     "end_time": "2024-10-10T11:20:03.223474Z",
     "start_time": "2024-10-10T11:20:02.736030Z"
    }
   },
   "source": [
    "sensors_with_features= pd.merge(sensors_with_features, melbourne_sensors, on=['sensor_id'], how='left')"
   ],
   "outputs": [],
   "execution_count": 22
  },
  {
   "cell_type": "markdown",
   "id": "230ad911",
   "metadata": {},
   "source": [
    "### Save as csv"
   ]
  },
  {
   "cell_type": "code",
   "id": "9ca71733",
   "metadata": {
    "ExecuteTime": {
     "end_time": "2024-10-10T11:21:16.165236Z",
     "start_time": "2024-10-10T11:20:03.230108Z"
    }
   },
   "source": [
    "dir=\"../../Cleaned_data/FormattedDataForModelling/\"\n",
    "os.makedirs(dir, exist_ok=True)\n",
    "sensors_with_features.to_csv(dir+\"formatted_data_for_modelling_allsensors_{}_outlierremovaleachsensor.csv\".format(buffer_size_m),\n",
    "                            index = False)"
   ],
   "outputs": [],
   "execution_count": 23
  },
  {
   "metadata": {
    "ExecuteTime": {
     "end_time": "2024-10-10T11:21:17.953257Z",
     "start_time": "2024-10-10T11:21:17.951958Z"
    }
   },
   "cell_type": "code",
   "source": "",
   "id": "30b5d2526f5116e3",
   "outputs": [],
   "execution_count": null
  }
 ],
 "metadata": {
  "kernelspec": {
   "display_name": "Python 3 (ipykernel)",
   "language": "python",
   "name": "python3"
  },
  "language_info": {
   "codemirror_mode": {
    "name": "ipython",
    "version": 3
   },
   "file_extension": ".py",
   "mimetype": "text/x-python",
   "name": "python",
   "nbconvert_exporter": "python",
   "pygments_lexer": "ipython3",
   "version": "3.7.15"
  }
 },
 "nbformat": 4,
 "nbformat_minor": 5
}
