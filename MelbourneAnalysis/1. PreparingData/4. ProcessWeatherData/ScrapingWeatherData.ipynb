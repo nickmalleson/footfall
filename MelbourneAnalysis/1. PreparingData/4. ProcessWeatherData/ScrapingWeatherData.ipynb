{
 "cells": [
  {
   "cell_type": "markdown",
   "metadata": {},
   "source": [
    "# Scraping weather data\n",
    "Weather data is scraped from the Melbourne weather service which stores historic weather (either from forecast or actual conditions).  \n",
    "For every 30 minutes a string is downloaded which contains details on the weather conditions.  \n",
    "This string is split into components related to different weather variables, and saved into columns in a dataframe.  \n",
    "The 30 minute data is then converted to hourly data.  \n",
    "\n",
    "Rainfall data in mm/day is also available from: http://www.bom.gov.au/jsp/ncc/cdio/weatherData/av?p_nccObsCode=136&p_display_type=dailyDataFile&p_startYear=2014&p_c=-1487361950&p_stn_num=086232"
   ]
  },
  {
   "cell_type": "code",
   "metadata": {
    "ExecuteTime": {
     "end_time": "2024-10-02T15:31:24.169969Z",
     "start_time": "2024-10-02T15:31:24.166580Z"
    }
   },
   "source": [
    "import os\n",
    "\n",
    "import numpy as np\n",
    "import pandas as pd\n",
    "from selenium import webdriver\n",
    "from selenium.webdriver.common.by import By\n",
    "from time import time, sleep\n",
    "from selenium.webdriver.chrome.service import Service\n",
    "\n",
    "import requests\n",
    "from bs4 import BeautifulSoup\n",
    "\n",
    "import joblib\n",
    "import time\n",
    "from selenium.common import exceptions  \n",
    "\n",
    "from selenium import webdriver\n",
    "from webdriver_manager.chrome import ChromeDriverManager"
   ],
   "outputs": [],
   "execution_count": 8
  },
  {
   "cell_type": "code",
   "metadata": {
    "code_folding": [],
    "ExecuteTime": {
     "end_time": "2024-10-02T16:06:48.946048Z",
     "start_time": "2024-10-02T16:06:48.935246Z"
    }
   },
   "source": [
    "def scrape_weather_data(year):\n",
    "   \n",
    "    day_dict = {}\n",
    "\n",
    "    for month_value in range(1,13):\n",
    "        url = 'https://www.timeanddate.com/weather/australia/melbourne/historic?month={}&year={}'.format(month_value, year)\n",
    "        driver = webdriver.Chrome(service=Service(ChromeDriverManager().install()))\n",
    "        # driver = webdriver.Chrome(ChromeDriverManager().install())\n",
    "        driver.get('https://www.timeanddate.com/weather/australia/melbourne/historic?month={}&year={}'.format(month_value, year))\n",
    "\n",
    "        # Drop down menu html\n",
    "        select = driver.find_element(By.ID,'wt-his-select')\n",
    "\n",
    "        date_row = []\n",
    "        elements = select.find_elements(By.TAG_NAME, 'option')\n",
    "        date = []\n",
    "\n",
    "        # For each drop down option\n",
    "        for option in elements:\n",
    "\n",
    "            hourly_record = []\n",
    "            option.click()\n",
    "            time.sleep(1)\n",
    "            \n",
    "            table = driver.find_element(By.ID, 'wt-his')\n",
    "            rows = table.find_elements(By.TAG_NAME, \"tr\")\n",
    "            \n",
    "            # Add each hour of day's table to list hourly_record\n",
    "            for row in rows:\n",
    "                try:\n",
    "                    hourly_record.append(row.text)\n",
    "                except:\n",
    "                    exceptions.StaleElementReferenceException\n",
    "\n",
    "            date.append(' '.join(hourly_record[2].split(' ')[1:3]))\n",
    "\n",
    "            # Add entire day to date_row list\n",
    "            date_row.append(hourly_record[2:-1])\n",
    "\n",
    "        full_date_row = []\n",
    "        for i, day in enumerate(date_row):\n",
    "\n",
    "            day_list = date_row[i][0].split(' ')[3:]\n",
    "            day_list.insert(0, date_row[i][0].split('\\n', 1)[0])\n",
    "            date_row[i][0] = ' '.join(day_list)\n",
    "            full_date_row.append(date_row[i])\n",
    "\n",
    "        values = []\n",
    "\n",
    "        for index, r in enumerate(full_date_row):\n",
    "            day_values = []\n",
    "            for z in r:\n",
    "                values.append(z + ' ' + date[index])\n",
    "\n",
    "        day_dict[month_value] = values\n",
    "    \n",
    "    return day_dict\n",
    "\n",
    "\n",
    "def clean_weather_data(monthly_weather_dict, year):\n",
    "\n",
    "    #########################################################################\n",
    "    # Get one dataframe containing data for the whole year (one column with a string)\n",
    "    #########################################################################\n",
    "    # Put weather data for each month into a dataframe containing all the data\n",
    "    months_data = []\n",
    "    for i in range(1,13):\n",
    "        try:\n",
    "            months_data.append(pd.DataFrame(monthly_weather_dict[i]))\n",
    "        except KeyError as e:\n",
    "            print(f\"Warning, missing month {i} in year {year}. If this month is in the future then there's no problem, but otherwise somethingis going wrong.\")\n",
    "    yearly_df = pd.concat(months_data)\n",
    "\n",
    "    #########################################################################\n",
    "    # Split the string of weather info out into columns of weather variables\n",
    "    #########################################################################\n",
    "    yearly_df_formatted = pd.DataFrame(None)  \n",
    "\n",
    "    # loop through rows in dataframe. Each row contains a string containing the weather information\n",
    "    for this_row_number, this_row in enumerate(yearly_df.iloc[:,0]):\n",
    "        # Split the row into the different strings\n",
    "        this_row_strings =this_row.split(' ')\n",
    "        # Accounts for cases where lots of values are N/A for some reason\n",
    "        if this_row_strings[1] != 'N/A':\n",
    "            # Get the conditions\n",
    "            conditions = this_row_strings[3] \n",
    "            # Sometimes conditions is more than one word, so then loop through the next few strings\n",
    "            for i in range(4,10):\n",
    "                # Check if the this string is a number, if it is then leave the loop\n",
    "                try:\n",
    "                    int(this_row_strings[i])\n",
    "                # If it's not a number, then add it to the conditions\n",
    "                except:\n",
    "                    if this_row_strings[i] == '↑':\n",
    "                        break\n",
    "                    elif this_row_strings[i] == 'No':\n",
    "                        break\n",
    "                    else:\n",
    "                        conditions = conditions + this_row_strings[i]\n",
    "                else:\n",
    "                    break\n",
    "\n",
    "            # Get wind speed (accounting for times when it is listed as 'No Wind')\n",
    "            if 'mph' in this_row:\n",
    "                windspeed = this_row.partition('mph')[0].split()[-1]\n",
    "            else:\n",
    "                windspeed = 0\n",
    "            # Get humidity (accounting for times when it is listed as 'N/A')\n",
    "            if '%' in this_row:\n",
    "                humidity = this_row.split('%')[0].split()[-1] \n",
    "            else:\n",
    "                humidity = 0\n",
    "\n",
    "            # Problem from 2022 data\n",
    "            this_row_further_strings = this_row_strings[0].split('\\n')\n",
    "            Hour = this_row_further_strings[0]\n",
    "\n",
    "            # Use different parts of string to create a dataframe row\n",
    "            formatted_row = pd.DataFrame({ \"Day\": this_row_strings[-2], \"Month\": this_row_strings[-1], 'Hour':  Hour, \n",
    "                                          'Humidity':humidity, \"Temp\": this_row_strings[1], 'Conditions': conditions, \n",
    "                                          'WindSpeed': windspeed,'Pressure': this_row.partition('mbar')[0].split()[-1]},\n",
    "                                         index = [this_row_number])\n",
    "            #yearly_df_formatted = yearly_df_formatted.append(formatted_row)\n",
    "            yearly_df_formatted = pd.concat([yearly_df_formatted, formatted_row], ignore_index=True)\n",
    "\n",
    "        else:\n",
    "            print(this_row_strings)\n",
    "\n",
    "    #########################################################################\n",
    "    # Further formatting\n",
    "    #########################################################################\n",
    "    # Set the year\n",
    "    yearly_df_formatted['Year'] = year\n",
    "    # Change months to month numbers\n",
    "    yearly_df_formatted['Month']= yearly_df_formatted.Month.replace({'Jan': 1, 'Feb': 2, 'Mar': 3, 'Apr': 4, 'May': 5, 'Jun': 6, 'Jul': 7, 'Aug': 8, 'Sep': 9,\n",
    "                         'Oct': 10, 'Nov': 11, 'Dec': 12})\n",
    "    # Set other varibles to integers\n",
    "    for variable in ['Day', 'Temp', 'Humidity', 'Pressure', 'WindSpeed']:\n",
    "        yearly_df_formatted[variable] = yearly_df_formatted[variable].astype('int')\n",
    "    # Split hour into hour and minutes    \n",
    "    yearly_df_formatted['Minute'] = pd.to_datetime(yearly_df_formatted['Hour'], format='%H:%M').dt.minute\n",
    "    yearly_df_formatted['Hour'] = pd.to_datetime(yearly_df_formatted['Hour'], format='%H:%M').dt.hour\n",
    "    # Create datetime\n",
    "    yearly_df_formatted['datetime'] =  pd.to_datetime(yearly_df_formatted[['Year', 'Month', 'Day', 'Hour', 'Minute']])\n",
    "    yearly_df_formatted.set_index('datetime', inplace = True, drop = True)\n",
    "    # Create datetime\n",
    "    yearly_df_formatted['datetime'] =  pd.to_datetime(yearly_df_formatted[['Year', 'Month', 'Day', 'Hour', 'Minute']])\n",
    "    yearly_df_formatted.set_index('datetime', inplace = True, drop = True)\n",
    "    \n",
    "    #########################################################################\n",
    "    # Add variable specifying whether rain has happened\n",
    "    #########################################################################\n",
    "    yearly_df_formatted['Rain'] = yearly_df_formatted['Conditions'].str.contains('Rain|rain')\n",
    "        \n",
    "    #########################################################################\n",
    "    # Resample to be hourly values rather than half-hourly\n",
    "    #########################################################################\n",
    "    #  Keep just the necessary columns\n",
    "    filtered_df = yearly_df_formatted[['Temp', 'Humidity', 'Pressure', 'Rain', 'WindSpeed']].copy()\n",
    "    # Take the mean over each hour\n",
    "    hourly = filtered_df.resample('H').mean()\n",
    "    # Anything over 0 means there was rain at some point in the hour\n",
    "    hourly['Rain'] =  np.where(hourly['Rain'] > 0, 1,0)\n",
    "    \n",
    "    return hourly "
   ],
   "outputs": [],
   "execution_count": 38
  },
  {
   "cell_type": "markdown",
   "metadata": {},
   "source": "## Scrape weather data, clean and save to csv for each year in 2011-2024"
  },
  {
   "cell_type": "code",
   "metadata": {
    "ExecuteTime": {
     "end_time": "2024-10-02T16:32:13.601462Z",
     "start_time": "2024-10-02T16:07:05.583570Z"
    }
   },
   "source": [
    "dir = \"../../Cleaned_data/WeatherData/\"\n",
    "os.makedirs(dir, exist_ok=True)\n",
    "\n",
    "weather_all_years = pd.DataFrame(None)\n",
    "for year in range(2011, 2024+1):\n",
    "    print(year)\n",
    "    # Scrape data\n",
    "    weather_thisyear_monthly_dict = scrape_weather_data(year)\n",
    "    # Clean data\n",
    "    clean_thisyear = clean_weather_data(weather_thisyear_monthly_dict, year)\n",
    "    # Add to dataframe contianing all years weather data\n",
    "    weather_all_years = pd.concat([weather_all_years, clean_thisyear])\n",
    "    \n",
    "#weather_all_years['datetime'] = weather_all_years(weather['datetime'])    \n",
    "# Save to csv\n",
    "weather_all_years.to_csv(dir+'weather_data_allyears.csv', header = weather_all_years.columns, index=True)"
   ],
   "outputs": [
    {
     "name": "stdout",
     "output_type": "stream",
     "text": [
      "2022\n",
      "2023\n",
      "2024\n"
     ]
    }
   ],
   "execution_count": 42
  },
  {
   "cell_type": "markdown",
   "metadata": {},
   "source": [
    "### Check alternative weather data"
   ]
  },
  {
   "cell_type": "code",
   "metadata": {
    "ExecuteTime": {
     "end_time": "2024-10-02T16:32:39.219613Z",
     "start_time": "2024-10-02T16:32:39.191172Z"
    }
   },
   "source": [
    "rainfall = pd.read_csv(\"../../Data/RainfallData/melbourne_gardens_rainfall.csv\")\n",
    "rainfall_post2010 = rainfall[rainfall['Year']>2010].copy()\n",
    "rainfall_post2010['datetime'] = pd.to_datetime(rainfall_post2010[['Month', 'Day', 'Year']])\n",
    "rainfall_post2010 = rainfall_post2010[['datetime','Rainfall amount (millimetres)']]\n",
    "rainfall_post2010.to_csv(dir+'DailyRainfallData.csv', index=False)"
   ],
   "outputs": [],
   "execution_count": 43
  },
  {
   "metadata": {},
   "cell_type": "code",
   "outputs": [],
   "execution_count": null,
   "source": ""
  }
 ],
 "metadata": {
  "kernelspec": {
   "display_name": "Python 3 (ipykernel)",
   "language": "python",
   "name": "python3"
  },
  "language_info": {
   "codemirror_mode": {
    "name": "ipython",
    "version": 3
   },
   "file_extension": ".py",
   "mimetype": "text/x-python",
   "name": "python",
   "nbconvert_exporter": "python",
   "pygments_lexer": "ipython3",
   "version": "3.7.15"
  },
  "toc": {
   "base_numbering": 1,
   "nav_menu": {},
   "number_sections": true,
   "sideBar": true,
   "skip_h1_title": false,
   "title_cell": "Table of Contents",
   "title_sidebar": "Contents",
   "toc_cell": false,
   "toc_position": {},
   "toc_section_display": true,
   "toc_window_display": false
  },
  "varInspector": {
   "cols": {
    "lenName": 16,
    "lenType": 16,
    "lenVar": 40
   },
   "kernels_config": {
    "python": {
     "delete_cmd_postfix": "",
     "delete_cmd_prefix": "del ",
     "library": "var_list.py",
     "varRefreshCmd": "print(var_dic_list())"
    },
    "r": {
     "delete_cmd_postfix": ") ",
     "delete_cmd_prefix": "rm(",
     "library": "var_list.r",
     "varRefreshCmd": "cat(var_dic_list()) "
    }
   },
   "types_to_exclude": [
    "module",
    "function",
    "builtin_function_or_method",
    "instance",
    "_Feature"
   ],
   "window_display": false
  }
 },
 "nbformat": 4,
 "nbformat_minor": 2
}
