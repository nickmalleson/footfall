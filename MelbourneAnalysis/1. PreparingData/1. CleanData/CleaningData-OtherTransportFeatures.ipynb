{
 "cells": [
  {
   "cell_type": "code",
   "id": "3433d6d0",
   "metadata": {
    "ExecuteTime": {
     "end_time": "2024-09-27T08:31:20.337742Z",
     "start_time": "2024-09-27T08:31:20.074151Z"
    }
   },
   "source": [
    "import geopandas as gpd\n",
    "import pandas as pd\n",
    "from shapely.geometry import Point\n",
    "import os"
   ],
   "outputs": [],
   "execution_count": 1
  },
  {
   "cell_type": "markdown",
   "id": "5c11d286",
   "metadata": {},
   "source": [
    "### Get transport features from buildings and landmarks\n",
    "Landmarks include: (mostly) railway stations, (1) Marina, (1) transport terminal and (1) bridge  \n",
    "Buildings: there are 157, but it's not clear what they are"
   ]
  },
  {
   "cell_type": "code",
   "id": "0c61a9dc",
   "metadata": {
    "ExecuteTime": {
     "end_time": "2024-09-27T08:31:20.348036Z",
     "start_time": "2024-09-27T08:31:20.345161Z"
    }
   },
   "source": [
    "def create_transport_df(transport_fp):\n",
    "    # read in csv\n",
    "    transport_df = pd.read_csv(transport_fp)\n",
    "    # Split into latitude and longitude, and convert these to numeric\n",
    "    #transport_df[['Latitude', 'Longitude']] = transport_df['Geo Point'].str.split(',', 1, expand=True)\n",
    "    transport_df[['Latitude', 'Longitude']] = transport_df['Geo Point'].str.split(',', expand=True)\n",
    "    transport_df[['Latitude', 'Longitude']]= transport_df[['Latitude', 'Longitude']].apply(pd.to_numeric)\n",
    "    return transport_df\n",
    "\n",
    "def create_other_features_gdf(fp):\n",
    "    df = pd.read_csv(fp)\n",
    "    geometry = [Point(xy) for xy in zip(df.Longitude, df.Latitude)]\n",
    "    gdf = gpd.GeoDataFrame(df, geometry=geometry)\n",
    "    return gdf\n",
    "\n",
    "\n",
    "# Directory to save the cleaned data\n",
    "cleaned_data_folder_fp = '../../Cleaned_data/SpatialFeatures/'\n",
    "os.makedirs(cleaned_data_folder_fp, exist_ok = True)"
   ],
   "outputs": [],
   "execution_count": 2
  },
  {
   "cell_type": "markdown",
   "id": "5af5de53",
   "metadata": {},
   "source": [
    "### Read in new extra transport features"
   ]
  },
  {
   "cell_type": "code",
   "id": "562381ca",
   "metadata": {
    "ExecuteTime": {
     "end_time": "2024-09-27T08:31:20.973116Z",
     "start_time": "2024-09-27T08:31:20.359031Z"
    }
   },
   "source": [
    "tram_stops_df = create_transport_df(\"../../Data/TransportHubs/tram-stops.csv\")\n",
    "metro_stations_df = create_transport_df(\"../../Data/TransportHubs/metro-stations.csv\")\n",
    "bus_stops_df = create_transport_df(\"../../Data/TransportHubs/bus-stops.csv\")\n",
    "taxis_df = create_transport_df('../../Data/TransportHubs/taxi-ranks.csv')\n",
    "car_parks_df = create_other_features_gdf('../../Data/TransportHubs/offstreet-car-parks.csv')\n",
    "big_car_parks = car_parks_df[car_parks_df['Parking spaces']>20]"
   ],
   "outputs": [],
   "execution_count": 3
  },
  {
   "cell_type": "code",
   "id": "66215370",
   "metadata": {
    "ExecuteTime": {
     "end_time": "2024-09-27T08:31:21.106703Z",
     "start_time": "2024-09-27T08:31:21.102748Z"
    }
   },
   "source": [
    "# Trim to just be the columns found in all\n",
    "big_car_parks =  big_car_parks[['Latitude','Longitude' ]].copy()\n",
    "tram_stops_df = tram_stops_df[['Latitude','Longitude' ]].copy()\n",
    "metro_stations_df = metro_stations_df[['Latitude', 'Longitude']].copy()\n",
    "bus_stops_df = bus_stops_df[['Latitude', 'Longitude']].copy()"
   ],
   "outputs": [],
   "execution_count": 4
  },
  {
   "cell_type": "code",
   "id": "473879b5",
   "metadata": {
    "ExecuteTime": {
     "end_time": "2024-09-27T08:31:23.997467Z",
     "start_time": "2024-09-27T08:31:23.990381Z"
    }
   },
   "source": [
    "# Python check for duplicates\n",
    "for df in [bus_stops_df, tram_stops_df, metro_stations_df, taxis_df, big_car_parks]:\n",
    "    print(df.duplicated(subset=['Latitude', 'Longitude']).sum())\n",
    "    \n",
    "# Keep only one of the duplicates\n",
    "big_car_parks = big_car_parks.drop_duplicates(subset=['Latitude', 'Longitude'], keep=False)\n",
    "bus_stops_df = bus_stops_df.drop_duplicates(subset=['Latitude', 'Longitude'], keep=False)\n",
    "\n",
    "# Python check duplicates removed successfully\n",
    "for df in [bus_stops_df, tram_stops_df, metro_stations_df, taxis_df, big_car_parks]:\n",
    "    print(df.duplicated(subset=['Latitude', 'Longitude']).sum())"
   ],
   "outputs": [
    {
     "name": "stdout",
     "output_type": "stream",
     "text": [
      "14\n",
      "0\n",
      "0\n",
      "0\n",
      "17680\n",
      "0\n",
      "0\n",
      "0\n",
      "0\n",
      "0\n"
     ]
    }
   ],
   "execution_count": 5
  },
  {
   "cell_type": "markdown",
   "id": "ef923d9f",
   "metadata": {},
   "source": [
    "### Add a type flag"
   ]
  },
  {
   "cell_type": "code",
   "id": "c942fac8",
   "metadata": {
    "ExecuteTime": {
     "end_time": "2024-09-27T08:31:25.684995Z",
     "start_time": "2024-09-27T08:31:25.682199Z"
    }
   },
   "source": [
    "tram_stops_df['Type'] = 'tram_stop'\n",
    "metro_stations_df['Type'] = 'metro_stop'\n",
    "bus_stops_df['Type'] = 'bus_stop'\n",
    "taxis_df['Type'] = 'taxi_rank'\n",
    "big_car_parks['Type'] = 'big_car_parks'"
   ],
   "outputs": [],
   "execution_count": 6
  },
  {
   "cell_type": "markdown",
   "id": "d7317cce",
   "metadata": {},
   "source": [
    "### Save cleaned dataframes to file"
   ]
  },
  {
   "cell_type": "code",
   "id": "6416af03",
   "metadata": {
    "ExecuteTime": {
     "end_time": "2024-09-27T08:31:29.089948Z",
     "start_time": "2024-09-27T08:31:29.077900Z"
    }
   },
   "source": [
    "tram_stops_df.to_csv(cleaned_data_folder_fp + \"/tram-stops_clean.csv\", index=False)\n",
    "metro_stations_df.to_csv(cleaned_data_folder_fp + \"/metro-stations_clean.csv\", index=False)\n",
    "bus_stops_df.to_csv(cleaned_data_folder_fp + \"/bus-stops_clean.csv\", index=False)\n",
    "taxis_df.to_csv(cleaned_data_folder_fp + \"/taxi-ranks_clean.csv\", index=False)\n",
    "big_car_parks.to_csv(cleaned_data_folder_fp + \"/big-car-parks_clean.csv\", index=False)"
   ],
   "outputs": [],
   "execution_count": 7
  },
  {
   "cell_type": "markdown",
   "id": "3d1879c3",
   "metadata": {},
   "source": [
    "### Join all 'stops' data into one"
   ]
  },
  {
   "cell_type": "code",
   "id": "0b5ca01e",
   "metadata": {
    "ExecuteTime": {
     "end_time": "2024-09-27T08:31:31.673660Z",
     "start_time": "2024-09-27T08:31:31.667789Z"
    }
   },
   "source": [
    "# Join\n",
    "all_transport_stops = pd.concat([tram_stops_df, metro_stations_df,bus_stops_df], axis=0)\n",
    "# Check for duplicates\n",
    "print(len(all_transport_stops.loc[all_transport_stops.duplicated(subset=['Latitude', 'Longitude']), :]))\n",
    "# Save\n",
    "all_transport_stops.to_csv(cleaned_data_folder_fp + \"/transport_stops_clean.csv\", index=False)"
   ],
   "outputs": [
    {
     "name": "stdout",
     "output_type": "stream",
     "text": [
      "0\n"
     ]
    }
   ],
   "execution_count": 8
  },
  {
   "cell_type": "markdown",
   "id": "54113c64",
   "metadata": {},
   "source": [
    "### Check for features duplicated in landmarks or buildings transport data"
   ]
  },
  {
   "cell_type": "code",
   "id": "28f06c1f",
   "metadata": {
    "ExecuteTime": {
     "end_time": "2024-09-27T08:31:46.450181Z",
     "start_time": "2024-09-27T08:31:46.410924Z"
    }
   },
   "source": [
    "landmarks = pd.read_csv(cleaned_data_folder_fp + \"/landmarks_clean.csv\",)\n",
    "landmark_transport = landmarks[landmarks['theme']=='Transport']\n",
    "landmark_transport = landmark_transport[['Latitude','Longitude' ]].copy()\n",
    "landmark_transport['Type'] = 'landmark_transport'\n",
    "landmark_transport.loc[landmark_transport.duplicated(subset=['Latitude', 'Longitude']), :]\n",
    "\n",
    "buildings = pd.read_csv(cleaned_data_folder_fp + \"/buildings_clean.csv\",)\n",
    "buildings2019 = buildings[buildings['year']==2019]\n",
    "buildings2019_transport = buildings2019[buildings2019['building_use']=='Transport']\n",
    "buildings2019_transport = buildings2019_transport[['Latitude','Longitude' ]].copy()\n",
    "buildings2019_transport['Type'] = 'buildings_transport'"
   ],
   "outputs": [],
   "execution_count": 10
  },
  {
   "cell_type": "code",
   "id": "3a48b237",
   "metadata": {
    "ExecuteTime": {
     "end_time": "2024-09-27T08:31:47.407722Z",
     "start_time": "2024-09-27T08:31:47.405230Z"
    }
   },
   "source": [
    "all_transport_stops = pd.concat([all_transport_stops, buildings2019_transport, landmark_transport], axis=0)"
   ],
   "outputs": [],
   "execution_count": 11
  },
  {
   "cell_type": "code",
   "id": "8bcad7f3",
   "metadata": {
    "ExecuteTime": {
     "end_time": "2024-09-27T08:31:47.920888Z",
     "start_time": "2024-09-27T08:31:47.912765Z"
    }
   },
   "source": [
    "all_transport_stops.loc[all_transport_stops.duplicated(keep = False,subset=['Latitude', 'Longitude']), :]"
   ],
   "outputs": [
    {
     "data": {
      "text/plain": [
       "Empty DataFrame\n",
       "Columns: [Latitude, Longitude, Type]\n",
       "Index: []"
      ],
      "text/html": [
       "<div>\n",
       "<style scoped>\n",
       "    .dataframe tbody tr th:only-of-type {\n",
       "        vertical-align: middle;\n",
       "    }\n",
       "\n",
       "    .dataframe tbody tr th {\n",
       "        vertical-align: top;\n",
       "    }\n",
       "\n",
       "    .dataframe thead th {\n",
       "        text-align: right;\n",
       "    }\n",
       "</style>\n",
       "<table border=\"1\" class=\"dataframe\">\n",
       "  <thead>\n",
       "    <tr style=\"text-align: right;\">\n",
       "      <th></th>\n",
       "      <th>Latitude</th>\n",
       "      <th>Longitude</th>\n",
       "      <th>Type</th>\n",
       "    </tr>\n",
       "  </thead>\n",
       "  <tbody>\n",
       "  </tbody>\n",
       "</table>\n",
       "</div>"
      ]
     },
     "execution_count": 12,
     "metadata": {},
     "output_type": "execute_result"
    }
   ],
   "execution_count": 12
  },
  {
   "metadata": {
    "ExecuteTime": {
     "end_time": "2024-09-24T16:40:15.767719Z",
     "start_time": "2024-09-24T16:40:15.766145Z"
    }
   },
   "cell_type": "code",
   "source": "",
   "id": "e27bb27ef76e20b1",
   "outputs": [],
   "execution_count": null
  }
 ],
 "metadata": {
  "kernelspec": {
   "display_name": "Python 3 (ipykernel)",
   "language": "python",
   "name": "python3"
  },
  "language_info": {
   "codemirror_mode": {
    "name": "ipython",
    "version": 3
   },
   "file_extension": ".py",
   "mimetype": "text/x-python",
   "name": "python",
   "nbconvert_exporter": "python",
   "pygments_lexer": "ipython3",
   "version": "3.7.15"
  }
 },
 "nbformat": 4,
 "nbformat_minor": 5
}
