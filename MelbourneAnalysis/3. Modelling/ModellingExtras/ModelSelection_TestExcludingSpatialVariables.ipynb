{
 "cells": [
  {
   "cell_type": "markdown",
   "metadata": {},
   "source": [
    "## if include sensor_id then can fit quite a good model - but this would be a model that would only be able to predict at those locations"
   ]
  },
  {
   "metadata": {
    "ExecuteTime": {
     "end_time": "2024-11-26T18:27:21.952226Z",
     "start_time": "2024-11-26T18:27:08.783213Z"
    }
   },
   "cell_type": "code",
   "source": [
    "import os\n",
    "import pandas as pd\n",
    "from time import time\n",
    "# from sklearn.linear_model import LinearRegression\n",
    "from sklearn.preprocessing import StandardScaler\n",
    "from sklearn.model_selection import KFold\n",
    "# import numpy as np\n",
    "from sklearn.ensemble import RandomForestRegressor, ExtraTreesRegressor \n",
    "# import xgboost as xgb\n",
    "from sklearn.pipeline import Pipeline\n",
    "# import folium\n",
    "# import branca.colormap as cm\n",
    "# from eli5.sklearn import PermutationImportance\n",
    "# import joblib\n",
    "# import os\n",
    "# import psutil\n",
    "# import geopy.distance\n",
    "import sys\n",
    "\n",
    "sys.path.append('../')\n",
    "from Functions import *"
   ],
   "outputs": [
    {
     "name": "stderr",
     "output_type": "stream",
     "text": [
      "/opt/homebrew/anaconda3/envs/py310/lib/python3.10/site-packages/dask/dataframe/_pyarrow_compat.py:15: FutureWarning: Minimal version of pyarrow will soon be increased to 14.0.1. You are using 12.0.1. Please consider upgrading.\n",
      "  warnings.warn(\n"
     ]
    }
   ],
   "execution_count": 1
  },
  {
   "metadata": {
    "ExecuteTime": {
     "end_time": "2024-11-26T18:27:21.957627Z",
     "start_time": "2024-11-26T18:27:21.955769Z"
    }
   },
   "cell_type": "code",
   "source": [
    "buffer_size_m = 400\n",
    "input_csv =f\"../../Cleaned_data/FormattedDataForModelling/formatted_data_for_modelling_allsensors_{buffer_size_m}_outlierremovaleachsensor.csv\""
   ],
   "outputs": [],
   "execution_count": 2
  },
  {
   "cell_type": "markdown",
   "metadata": {},
   "source": [
    "## Run models with cross-validation"
   ]
  },
  {
   "cell_type": "markdown",
   "metadata": {},
   "source": [
    "### Define the error metrics for the cross-validation to return, and the parameters of the cross validation"
   ]
  },
  {
   "cell_type": "code",
   "metadata": {
    "ExecuteTime": {
     "end_time": "2024-11-26T18:27:22.180724Z",
     "start_time": "2024-11-26T18:27:22.178339Z"
    }
   },
   "source": [
    "error_metrics = ['neg_mean_absolute_error', 'r2', 'neg_root_mean_squared_error', 'neg_mean_absolute_percentage_error']\n",
    "cv_parameters = KFold(n_splits=10, random_state=1, shuffle=True)"
   ],
   "outputs": [],
   "execution_count": 3
  },
  {
   "cell_type": "code",
   "metadata": {
    "ExecuteTime": {
     "end_time": "2024-11-26T18:27:22.189110Z",
     "start_time": "2024-11-26T18:27:22.186776Z"
    }
   },
   "source": [
    "rf_model_pipeline = Pipeline(steps=[['scaler',StandardScaler()],['rf_regressor', RandomForestRegressor(random_state = 1, n_jobs = 10)]])"
   ],
   "outputs": [],
   "execution_count": 4
  },
  {
   "cell_type": "markdown",
   "metadata": {},
   "source": [
    "### Prepare data for modelling"
   ]
  },
  {
   "metadata": {
    "ExecuteTime": {
     "end_time": "2024-11-26T18:27:46.463420Z",
     "start_time": "2024-11-26T18:27:22.201115Z"
    }
   },
   "cell_type": "code",
   "source": "Xfull, Yfull, data_time_columns, index2019 = prepare_x_y_data(input_csv)",
   "outputs": [
    {
     "name": "stderr",
     "output_type": "stream",
     "text": [
      "/Users/geonsm/gp/footfall/MelbourneAnalysis/3. Modelling/ModellingExtras/../Functions.py:28: DtypeWarning: Columns (4,5,6,7,8) have mixed types. Specify dtype option on import or set low_memory=False.\n",
      "  data = pd.read_csv(input_csv, index_col = False)\n"
     ]
    }
   ],
   "execution_count": 5
  },
  {
   "cell_type": "markdown",
   "metadata": {},
   "source": [
    "### Cut off data post-Covid"
   ]
  },
  {
   "metadata": {
    "ExecuteTime": {
     "end_time": "2024-11-26T18:27:46.491708Z",
     "start_time": "2024-11-26T18:27:46.489200Z"
    }
   },
   "cell_type": "code",
   "source": [
    "Xfull= Xfull[0:index2019]\n",
    "Yfull= Yfull[0:index2019]\n",
    "data_time_columns = data_time_columns[0:index2019] # end of 2019"
   ],
   "outputs": [],
   "execution_count": 6
  },
  {
   "cell_type": "markdown",
   "metadata": {},
   "source": [
    "### Add sensor ID"
   ]
  },
  {
   "metadata": {
    "ExecuteTime": {
     "end_time": "2024-11-26T18:28:02.689834Z",
     "start_time": "2024-11-26T18:27:46.495107Z"
    }
   },
   "cell_type": "code",
   "source": [
    "sensor_ids = pd.read_csv(input_csv)['sensor_id']\n",
    "sensor_ids= sensor_ids[0:index2019]\n",
    "Xfull['sensor_id'] = sensor_ids"
   ],
   "outputs": [
    {
     "name": "stderr",
     "output_type": "stream",
     "text": [
      "/var/folders/bx/3j5z8qc50wl1tcff6xvbf2zh0000gs/T/ipykernel_94975/983852409.py:1: DtypeWarning: Columns (4,5,6,7,8) have mixed types. Specify dtype option on import or set low_memory=False.\n",
      "  sensor_ids = pd.read_csv(input_csv)['sensor_id']\n"
     ]
    }
   ],
   "execution_count": 7
  },
  {
   "cell_type": "markdown",
   "metadata": {},
   "source": "### Choose which month_num and weekday_num option to include\n"
  },
  {
   "metadata": {
    "ExecuteTime": {
     "end_time": "2024-11-26T18:28:03.069129Z",
     "start_time": "2024-11-26T18:28:02.703631Z"
    }
   },
   "cell_type": "code",
   "source": [
    "# If using the dummy variables\n",
    "# Xfull.drop(['Cos_month_num', 'Sin_month_num', 'Cos_weekday_num', 'Sin_weekday_num'], axis=1)\n",
    "# If using the cyclical variables\n",
    "#Xfull.drop(['Monday', 'Saturday', 'Sunday', 'Thursday', 'Tuesday', 'Wednesday',\n",
    "#       'month_2', 'month_3', 'month_4', 'month_5', 'month_6', 'month_7',\n",
    "#       'month_8', 'month_9', 'month_10', 'month_11', 'month_12'], axis=1, inplace = True)\n",
    "\n",
    "#In NM version, using the cyclical variables, the dummy variables are not included so do not need to be dropped. There are just a few to be removed\n",
    "# Also 'new_sensor' made it through for some reason\n",
    "Xfull.drop(['year', 'day', 'month', 'new_sensor'], axis=1, inplace = True)"
   ],
   "outputs": [],
   "execution_count": 8
  },
  {
   "cell_type": "markdown",
   "metadata": {},
   "source": [
    "### Remove spatial features"
   ]
  },
  {
   "metadata": {
    "ExecuteTime": {
     "end_time": "2024-11-26T18:28:03.080180Z",
     "start_time": "2024-11-26T18:28:03.077908Z"
    }
   },
   "cell_type": "code",
   "source": [
    "spatial_cols = ['betweenness', 'lights',  'memorials', 'trees','bus-stops', 'tram-stops', 'metro-stations',\n",
    "                'taxi-ranks', 'big-car-parks', 'street_inf_Bicycle Rails', 'street_inf_Bollard','street_inf_Drinking Fountain',\n",
    "                'street_inf_Floral Crate/Planter Box','street_inf_Horse Trough', 'street_inf_Information Pillar',\n",
    "                'street_inf_Litter Bin', 'street_inf_Seat', 'street_inf_Tree Guard','landmarks_Community Use',\n",
    "                'landmarks_Mixed Use','landmarks_Place Of Assembly', 'landmarks_Place of Worship', 'landmarks_Retail',\n",
    "                'landmarks_Transport', 'landmarks_Education Centre','landmarks_Leisure/Recreation', 'landmarks_Office',\n",
    "                'street_inf_Barbeque', 'street_inf_Hoop', 'street_inf_Picnic Setting', 'landmarks_Specialist Residential Accommodation',\n",
    "                'landmarks_Vacant Land', 'landmarks_Purpose Built','landmarks_Health Services', 'avg_n_floors', 'buildings_Community Use',\n",
    "                'buildings_Education', 'buildings_Entertainment', 'buildings_Events','buildings_Hospital/Clinic', 'buildings_Office', 'buildings_Parking',\n",
    "                'buildings_Public Display Area', 'buildings_Residential','buildings_Retail', 'buildings_Storage', 'buildings_Unoccupied',\n",
    "                'buildings_Working', 'buildings_Transport',\n",
    "                'mean_age', 'mean_income', 'mean_school_year']"
   ],
   "outputs": [],
   "execution_count": 9
  },
  {
   "metadata": {
    "ExecuteTime": {
     "end_time": "2024-11-26T18:28:03.188325Z",
     "start_time": "2024-11-26T18:28:03.094565Z"
    }
   },
   "cell_type": "code",
   "source": "columns_to_save = Xfull[spatial_cols]",
   "outputs": [],
   "execution_count": 10
  },
  {
   "metadata": {
    "ExecuteTime": {
     "end_time": "2024-11-26T18:28:03.268945Z",
     "start_time": "2024-11-26T18:28:03.191153Z"
    }
   },
   "cell_type": "code",
   "source": "Xfull.drop(spatial_cols, axis=1, inplace = True)",
   "outputs": [],
   "execution_count": 11
  },
  {
   "metadata": {
    "ExecuteTime": {
     "end_time": "2024-11-26T18:28:03.297521Z",
     "start_time": "2024-11-26T18:28:03.279751Z"
    }
   },
   "cell_type": "code",
   "source": "Xfull",
   "outputs": [
    {
     "data": {
      "text/plain": [
       "         Temp  Humidity  Pressure  Rain  WindSpeed  \\\n",
       "0        15.0      77.0    1013.0     0       14.0   \n",
       "1        15.0      77.0    1014.0     0       12.0   \n",
       "2        14.0      82.0    1013.0     0        9.0   \n",
       "3        14.0      79.5    1013.0     0        9.0   \n",
       "4        12.5      85.0    1014.0     0        7.0   \n",
       "...       ...       ...       ...   ...        ...   \n",
       "2680323  18.5      43.0    1014.0     0       17.5   \n",
       "2680324  17.5      52.0    1014.0     0       15.5   \n",
       "2680325  16.0      57.0    1014.0     0       12.0   \n",
       "2680326  15.5      63.5    1015.0     0        8.5   \n",
       "2680327  15.0      59.0    1015.0     0       10.0   \n",
       "\n",
       "         Rainfall amount (millimetres)  public_holiday  school_holiday  \\\n",
       "0                                  0.0               0               0   \n",
       "1                                  0.0               0               0   \n",
       "2                                  0.0               0               0   \n",
       "3                                  0.0               0               0   \n",
       "4                                  0.0               0               0   \n",
       "...                                ...             ...             ...   \n",
       "2680323                            0.0               0               0   \n",
       "2680324                            0.0               0               0   \n",
       "2680325                            0.0               0               0   \n",
       "2680326                            0.0               0               0   \n",
       "2680327                            0.0               0               0   \n",
       "\n",
       "         transport_stops      Sin_time  Cos_time  Sin_month_num  \\\n",
       "0                      1  0.000000e+00    1.0000  -2.449000e-16   \n",
       "1                      1  2.698000e-01    0.9629  -2.449000e-16   \n",
       "2                      1  5.196000e-01    0.8544  -2.449000e-16   \n",
       "3                      1  7.308000e-01    0.6826  -2.449000e-16   \n",
       "4                      1  8.879000e-01    0.4601  -2.449000e-16   \n",
       "...                  ...           ...       ...            ...   \n",
       "2680323                6 -8.879000e-01    0.4601  -2.449000e-16   \n",
       "2680324                6 -7.308000e-01    0.6826  -2.449000e-16   \n",
       "2680325                6 -5.196000e-01    0.8544  -2.449000e-16   \n",
       "2680326                6 -2.698000e-01    0.9629  -2.449000e-16   \n",
       "2680327                6 -2.449000e-16    1.0000  -2.449000e-16   \n",
       "\n",
       "         Cos_month_num  Sin_weekday_num  Cos_weekday_num  \\\n",
       "0                  1.0           0.9749          -0.2225   \n",
       "1                  1.0           0.9749          -0.2225   \n",
       "2                  1.0           0.9749          -0.2225   \n",
       "3                  1.0           0.9749          -0.2225   \n",
       "4                  1.0           0.9749          -0.2225   \n",
       "...                ...              ...              ...   \n",
       "2680323            1.0           0.9749          -0.2225   \n",
       "2680324            1.0           0.9749          -0.2225   \n",
       "2680325            1.0           0.9749          -0.2225   \n",
       "2680326            1.0           0.9749          -0.2225   \n",
       "2680327            1.0           0.9749          -0.2225   \n",
       "\n",
       "         distance_from_centre    random  random_cat  sensor_id  \n",
       "0                      0.2928  0.613843           2          1  \n",
       "1                      0.2928  0.498930           0          1  \n",
       "2                      0.2928  0.523841           2          1  \n",
       "3                      0.2928  0.419273           2          1  \n",
       "4                      0.2928  0.140750           0          1  \n",
       "...                       ...       ...         ...        ...  \n",
       "2680323                0.2468  0.511012           0         62  \n",
       "2680324                0.2468  0.365936           1         62  \n",
       "2680325                0.2468  0.352883           0         62  \n",
       "2680326                0.2468  0.746033           1         62  \n",
       "2680327                0.2468  0.064190           0         62  \n",
       "\n",
       "[2680328 rows x 19 columns]"
      ],
      "text/html": [
       "<div>\n",
       "<style scoped>\n",
       "    .dataframe tbody tr th:only-of-type {\n",
       "        vertical-align: middle;\n",
       "    }\n",
       "\n",
       "    .dataframe tbody tr th {\n",
       "        vertical-align: top;\n",
       "    }\n",
       "\n",
       "    .dataframe thead th {\n",
       "        text-align: right;\n",
       "    }\n",
       "</style>\n",
       "<table border=\"1\" class=\"dataframe\">\n",
       "  <thead>\n",
       "    <tr style=\"text-align: right;\">\n",
       "      <th></th>\n",
       "      <th>Temp</th>\n",
       "      <th>Humidity</th>\n",
       "      <th>Pressure</th>\n",
       "      <th>Rain</th>\n",
       "      <th>WindSpeed</th>\n",
       "      <th>Rainfall amount (millimetres)</th>\n",
       "      <th>public_holiday</th>\n",
       "      <th>school_holiday</th>\n",
       "      <th>transport_stops</th>\n",
       "      <th>Sin_time</th>\n",
       "      <th>Cos_time</th>\n",
       "      <th>Sin_month_num</th>\n",
       "      <th>Cos_month_num</th>\n",
       "      <th>Sin_weekday_num</th>\n",
       "      <th>Cos_weekday_num</th>\n",
       "      <th>distance_from_centre</th>\n",
       "      <th>random</th>\n",
       "      <th>random_cat</th>\n",
       "      <th>sensor_id</th>\n",
       "    </tr>\n",
       "  </thead>\n",
       "  <tbody>\n",
       "    <tr>\n",
       "      <th>0</th>\n",
       "      <td>15.0</td>\n",
       "      <td>77.0</td>\n",
       "      <td>1013.0</td>\n",
       "      <td>0</td>\n",
       "      <td>14.0</td>\n",
       "      <td>0.0</td>\n",
       "      <td>0</td>\n",
       "      <td>0</td>\n",
       "      <td>1</td>\n",
       "      <td>0.000000e+00</td>\n",
       "      <td>1.0000</td>\n",
       "      <td>-2.449000e-16</td>\n",
       "      <td>1.0</td>\n",
       "      <td>0.9749</td>\n",
       "      <td>-0.2225</td>\n",
       "      <td>0.2928</td>\n",
       "      <td>0.613843</td>\n",
       "      <td>2</td>\n",
       "      <td>1</td>\n",
       "    </tr>\n",
       "    <tr>\n",
       "      <th>1</th>\n",
       "      <td>15.0</td>\n",
       "      <td>77.0</td>\n",
       "      <td>1014.0</td>\n",
       "      <td>0</td>\n",
       "      <td>12.0</td>\n",
       "      <td>0.0</td>\n",
       "      <td>0</td>\n",
       "      <td>0</td>\n",
       "      <td>1</td>\n",
       "      <td>2.698000e-01</td>\n",
       "      <td>0.9629</td>\n",
       "      <td>-2.449000e-16</td>\n",
       "      <td>1.0</td>\n",
       "      <td>0.9749</td>\n",
       "      <td>-0.2225</td>\n",
       "      <td>0.2928</td>\n",
       "      <td>0.498930</td>\n",
       "      <td>0</td>\n",
       "      <td>1</td>\n",
       "    </tr>\n",
       "    <tr>\n",
       "      <th>2</th>\n",
       "      <td>14.0</td>\n",
       "      <td>82.0</td>\n",
       "      <td>1013.0</td>\n",
       "      <td>0</td>\n",
       "      <td>9.0</td>\n",
       "      <td>0.0</td>\n",
       "      <td>0</td>\n",
       "      <td>0</td>\n",
       "      <td>1</td>\n",
       "      <td>5.196000e-01</td>\n",
       "      <td>0.8544</td>\n",
       "      <td>-2.449000e-16</td>\n",
       "      <td>1.0</td>\n",
       "      <td>0.9749</td>\n",
       "      <td>-0.2225</td>\n",
       "      <td>0.2928</td>\n",
       "      <td>0.523841</td>\n",
       "      <td>2</td>\n",
       "      <td>1</td>\n",
       "    </tr>\n",
       "    <tr>\n",
       "      <th>3</th>\n",
       "      <td>14.0</td>\n",
       "      <td>79.5</td>\n",
       "      <td>1013.0</td>\n",
       "      <td>0</td>\n",
       "      <td>9.0</td>\n",
       "      <td>0.0</td>\n",
       "      <td>0</td>\n",
       "      <td>0</td>\n",
       "      <td>1</td>\n",
       "      <td>7.308000e-01</td>\n",
       "      <td>0.6826</td>\n",
       "      <td>-2.449000e-16</td>\n",
       "      <td>1.0</td>\n",
       "      <td>0.9749</td>\n",
       "      <td>-0.2225</td>\n",
       "      <td>0.2928</td>\n",
       "      <td>0.419273</td>\n",
       "      <td>2</td>\n",
       "      <td>1</td>\n",
       "    </tr>\n",
       "    <tr>\n",
       "      <th>4</th>\n",
       "      <td>12.5</td>\n",
       "      <td>85.0</td>\n",
       "      <td>1014.0</td>\n",
       "      <td>0</td>\n",
       "      <td>7.0</td>\n",
       "      <td>0.0</td>\n",
       "      <td>0</td>\n",
       "      <td>0</td>\n",
       "      <td>1</td>\n",
       "      <td>8.879000e-01</td>\n",
       "      <td>0.4601</td>\n",
       "      <td>-2.449000e-16</td>\n",
       "      <td>1.0</td>\n",
       "      <td>0.9749</td>\n",
       "      <td>-0.2225</td>\n",
       "      <td>0.2928</td>\n",
       "      <td>0.140750</td>\n",
       "      <td>0</td>\n",
       "      <td>1</td>\n",
       "    </tr>\n",
       "    <tr>\n",
       "      <th>...</th>\n",
       "      <td>...</td>\n",
       "      <td>...</td>\n",
       "      <td>...</td>\n",
       "      <td>...</td>\n",
       "      <td>...</td>\n",
       "      <td>...</td>\n",
       "      <td>...</td>\n",
       "      <td>...</td>\n",
       "      <td>...</td>\n",
       "      <td>...</td>\n",
       "      <td>...</td>\n",
       "      <td>...</td>\n",
       "      <td>...</td>\n",
       "      <td>...</td>\n",
       "      <td>...</td>\n",
       "      <td>...</td>\n",
       "      <td>...</td>\n",
       "      <td>...</td>\n",
       "      <td>...</td>\n",
       "    </tr>\n",
       "    <tr>\n",
       "      <th>2680323</th>\n",
       "      <td>18.5</td>\n",
       "      <td>43.0</td>\n",
       "      <td>1014.0</td>\n",
       "      <td>0</td>\n",
       "      <td>17.5</td>\n",
       "      <td>0.0</td>\n",
       "      <td>0</td>\n",
       "      <td>0</td>\n",
       "      <td>6</td>\n",
       "      <td>-8.879000e-01</td>\n",
       "      <td>0.4601</td>\n",
       "      <td>-2.449000e-16</td>\n",
       "      <td>1.0</td>\n",
       "      <td>0.9749</td>\n",
       "      <td>-0.2225</td>\n",
       "      <td>0.2468</td>\n",
       "      <td>0.511012</td>\n",
       "      <td>0</td>\n",
       "      <td>62</td>\n",
       "    </tr>\n",
       "    <tr>\n",
       "      <th>2680324</th>\n",
       "      <td>17.5</td>\n",
       "      <td>52.0</td>\n",
       "      <td>1014.0</td>\n",
       "      <td>0</td>\n",
       "      <td>15.5</td>\n",
       "      <td>0.0</td>\n",
       "      <td>0</td>\n",
       "      <td>0</td>\n",
       "      <td>6</td>\n",
       "      <td>-7.308000e-01</td>\n",
       "      <td>0.6826</td>\n",
       "      <td>-2.449000e-16</td>\n",
       "      <td>1.0</td>\n",
       "      <td>0.9749</td>\n",
       "      <td>-0.2225</td>\n",
       "      <td>0.2468</td>\n",
       "      <td>0.365936</td>\n",
       "      <td>1</td>\n",
       "      <td>62</td>\n",
       "    </tr>\n",
       "    <tr>\n",
       "      <th>2680325</th>\n",
       "      <td>16.0</td>\n",
       "      <td>57.0</td>\n",
       "      <td>1014.0</td>\n",
       "      <td>0</td>\n",
       "      <td>12.0</td>\n",
       "      <td>0.0</td>\n",
       "      <td>0</td>\n",
       "      <td>0</td>\n",
       "      <td>6</td>\n",
       "      <td>-5.196000e-01</td>\n",
       "      <td>0.8544</td>\n",
       "      <td>-2.449000e-16</td>\n",
       "      <td>1.0</td>\n",
       "      <td>0.9749</td>\n",
       "      <td>-0.2225</td>\n",
       "      <td>0.2468</td>\n",
       "      <td>0.352883</td>\n",
       "      <td>0</td>\n",
       "      <td>62</td>\n",
       "    </tr>\n",
       "    <tr>\n",
       "      <th>2680326</th>\n",
       "      <td>15.5</td>\n",
       "      <td>63.5</td>\n",
       "      <td>1015.0</td>\n",
       "      <td>0</td>\n",
       "      <td>8.5</td>\n",
       "      <td>0.0</td>\n",
       "      <td>0</td>\n",
       "      <td>0</td>\n",
       "      <td>6</td>\n",
       "      <td>-2.698000e-01</td>\n",
       "      <td>0.9629</td>\n",
       "      <td>-2.449000e-16</td>\n",
       "      <td>1.0</td>\n",
       "      <td>0.9749</td>\n",
       "      <td>-0.2225</td>\n",
       "      <td>0.2468</td>\n",
       "      <td>0.746033</td>\n",
       "      <td>1</td>\n",
       "      <td>62</td>\n",
       "    </tr>\n",
       "    <tr>\n",
       "      <th>2680327</th>\n",
       "      <td>15.0</td>\n",
       "      <td>59.0</td>\n",
       "      <td>1015.0</td>\n",
       "      <td>0</td>\n",
       "      <td>10.0</td>\n",
       "      <td>0.0</td>\n",
       "      <td>0</td>\n",
       "      <td>0</td>\n",
       "      <td>6</td>\n",
       "      <td>-2.449000e-16</td>\n",
       "      <td>1.0000</td>\n",
       "      <td>-2.449000e-16</td>\n",
       "      <td>1.0</td>\n",
       "      <td>0.9749</td>\n",
       "      <td>-0.2225</td>\n",
       "      <td>0.2468</td>\n",
       "      <td>0.064190</td>\n",
       "      <td>0</td>\n",
       "      <td>62</td>\n",
       "    </tr>\n",
       "  </tbody>\n",
       "</table>\n",
       "<p>2680328 rows × 19 columns</p>\n",
       "</div>"
      ]
     },
     "execution_count": 12,
     "metadata": {},
     "output_type": "execute_result"
    }
   ],
   "execution_count": 12
  },
  {
   "metadata": {
    "ExecuteTime": {
     "end_time": "2024-11-26T18:28:03.586698Z",
     "start_time": "2024-11-26T18:28:03.331292Z"
    }
   },
   "cell_type": "code",
   "source": [
    "# Keep only the sensor ID\n",
    "Xfull_sensorid = Xfull.loc[:, Xfull.columns != 'distance_from_centre']\n",
    "# Keep only the distance from the centre\n",
    "Xfull_distance_from_centre = Xfull.loc[:, Xfull.columns != 'sensor_id']\n",
    "# Keep no spatial variables\n",
    "Xfull_nospatialvariables = Xfull.loc[:, ~Xfull.columns.isin(['sensor_id', 'distance_from_centre'])]\n",
    "# Version with spatial variables\n",
    "Xfull = pd.concat([Xfull_distance_from_centre, columns_to_save], axis=1)"
   ],
   "outputs": [],
   "execution_count": 13
  },
  {
   "metadata": {
    "ExecuteTime": {
     "end_time": "2024-11-26T18:28:03.612349Z",
     "start_time": "2024-11-26T18:28:03.610013Z"
    }
   },
   "cell_type": "code",
   "source": [
    "# Dataframe to store the scores for all the models\n",
    "error_metric_scores = pd.DataFrame()\n",
    "\n",
    "Xfulls = [Xfull,Xfull_nospatialvariables, Xfull_sensorid, Xfull_distance_from_centre]\n",
    "version = ['Original', 'No Spatial Features', 'Sensor ID', 'Distance From Centre']\n",
    "assert len(Xfulls) == len(version)"
   ],
   "outputs": [],
   "execution_count": 14
  },
  {
   "metadata": {
    "ExecuteTime": {
     "end_time": "2024-11-26T21:17:04.398144Z",
     "start_time": "2024-11-26T19:48:32.999607Z"
    }
   },
   "cell_type": "code",
   "source": [
    "# Dataframe to store the scores for all the models\n",
    "error_metric_scores = pd.DataFrame()\n",
    "\n",
    "os.makedirs(\"../Results/CV/ComparingSpatialFeatures\", exist_ok=True)\n",
    "\n",
    "for num in range(0,len(Xfulls)):\n",
    "    # Get the right Xfull from list\n",
    "    Xfull=Xfulls[num]\n",
    "    print(f\"Starting {version[num]}...\")\n",
    "    # Use cross_validate to return the error scores associated with this model and this data\n",
    "    start = time()\n",
    "    model_output = cross_validate(rf_model_pipeline, Xfull, Yfull, cv=cv_parameters, scoring=error_metrics, error_score=\"raise\")\n",
    "    end = time()\n",
    "    print('\\tRan in {} minutes'.format(round((end - start)/60),2))\n",
    "\n",
    "    # Formulate the different error scores into a dataframe\n",
    "    error_metrics_df =pd.DataFrame({'mae': round(abs(model_output['test_neg_mean_absolute_error'].mean()),2), \n",
    "                  'mape': round(abs(model_output['test_neg_mean_absolute_percentage_error'].mean()),2),\n",
    "                  'r2': round(abs(model_output['test_r2'].mean()),2), \n",
    "                  'rmse': round(abs(model_output['test_neg_root_mean_squared_error'].mean()),2)},\n",
    "                 index =[version[num]])\n",
    "\n",
    "    # Add evaluation metric scores for this model to the dataframe containing the metrics for each model\n",
    "    error_metric_scores = pd.concat([error_metric_scores, error_metrics_df])\n",
    "\n",
    "    # Save error scores for this distance to file\n",
    "#error_metrics_df.to_csv('Results/CV/ComparingModels/{}_{}m_error_metric_scores.csv'.format(model_name,buffer_size_m),index=False)    \n",
    "\n",
    "# Save dataframes of error metrics for each buffer distance \n",
    "error_metric_scores.to_csv('../Results/CV/ComparingSpatialFeatures/comparingmodels_error_metric_scores.csv')"
   ],
   "outputs": [
    {
     "name": "stdout",
     "output_type": "stream",
     "text": [
      "Starting No Spatial Features...\n",
      "\tRan in 29 minutes\n",
      "Starting Sensor ID...\n",
      "\tRan in 30 minutes\n",
      "Starting Distance From Centre...\n",
      "\tRan in 29 minutes\n"
     ]
    }
   ],
   "execution_count": 24
  },
  {
   "metadata": {
    "ExecuteTime": {
     "end_time": "2024-11-26T21:19:00.138708Z",
     "start_time": "2024-11-26T21:19:00.133687Z"
    }
   },
   "cell_type": "code",
   "source": "error_metric_scores\n",
   "outputs": [
    {
     "data": {
      "text/plain": [
       "                         mae          mape    r2    rmse\n",
       "Original               79.33  8.100920e+14  0.96  171.67\n",
       "No Spatial Features   317.41  1.851024e+15  0.57  529.32\n",
       "Sensor ID             101.42  9.491138e+14  0.94  206.22\n",
       "Distance From Centre  101.88  9.415121e+14  0.93  207.07"
      ],
      "text/html": [
       "<div>\n",
       "<style scoped>\n",
       "    .dataframe tbody tr th:only-of-type {\n",
       "        vertical-align: middle;\n",
       "    }\n",
       "\n",
       "    .dataframe tbody tr th {\n",
       "        vertical-align: top;\n",
       "    }\n",
       "\n",
       "    .dataframe thead th {\n",
       "        text-align: right;\n",
       "    }\n",
       "</style>\n",
       "<table border=\"1\" class=\"dataframe\">\n",
       "  <thead>\n",
       "    <tr style=\"text-align: right;\">\n",
       "      <th></th>\n",
       "      <th>mae</th>\n",
       "      <th>mape</th>\n",
       "      <th>r2</th>\n",
       "      <th>rmse</th>\n",
       "    </tr>\n",
       "  </thead>\n",
       "  <tbody>\n",
       "    <tr>\n",
       "      <th>Original</th>\n",
       "      <td>79.33</td>\n",
       "      <td>8.100920e+14</td>\n",
       "      <td>0.96</td>\n",
       "      <td>171.67</td>\n",
       "    </tr>\n",
       "    <tr>\n",
       "      <th>No Spatial Features</th>\n",
       "      <td>317.41</td>\n",
       "      <td>1.851024e+15</td>\n",
       "      <td>0.57</td>\n",
       "      <td>529.32</td>\n",
       "    </tr>\n",
       "    <tr>\n",
       "      <th>Sensor ID</th>\n",
       "      <td>101.42</td>\n",
       "      <td>9.491138e+14</td>\n",
       "      <td>0.94</td>\n",
       "      <td>206.22</td>\n",
       "    </tr>\n",
       "    <tr>\n",
       "      <th>Distance From Centre</th>\n",
       "      <td>101.88</td>\n",
       "      <td>9.415121e+14</td>\n",
       "      <td>0.93</td>\n",
       "      <td>207.07</td>\n",
       "    </tr>\n",
       "  </tbody>\n",
       "</table>\n",
       "</div>"
      ]
     },
     "execution_count": 25,
     "metadata": {},
     "output_type": "execute_result"
    }
   ],
   "execution_count": 25
  }
 ],
 "metadata": {
  "hide_input": false,
  "kernelspec": {
   "display_name": "Python 3 (ipykernel)",
   "language": "python",
   "name": "python3"
  },
  "language_info": {
   "codemirror_mode": {
    "name": "ipython",
    "version": 3
   },
   "file_extension": ".py",
   "mimetype": "text/x-python",
   "name": "python",
   "nbconvert_exporter": "python",
   "pygments_lexer": "ipython3",
   "version": "3.7.15"
  }
 },
 "nbformat": 4,
 "nbformat_minor": 2
}
