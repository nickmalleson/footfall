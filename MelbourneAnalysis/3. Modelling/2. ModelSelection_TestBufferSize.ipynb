{
 "cells": [
  {
   "cell_type": "markdown",
   "metadata": {},
   "source": [
    "# Model selection\n",
    "\n",
    "Cross-validation is used here to select the best model. In this script it is used to test the best buffer size to draw around the sensors from within which to draw the environment variables. \n",
    "\n",
    "Tests the performance of a <u>Random Forest Regressor</u>\n",
    "\n",
    "<u> The following variables are included in the model:</u>\n",
    "* Weather variables (rain, temperature, windspeed)\n",
    "* Time variables (Day of week, month, year, time of day, public holiday)\n",
    "* Sensor environment variables:\n",
    "    * Betweenness of the street \n",
    "    * Buildings in proximity to the sensor\n",
    "    * Landmarks in proximity to the sensor  \n",
    "    * Furniture in proximity to the sensor    \n",
    "    * Lights in proximity to the sensor   \n",
    "\n",
    "\n",
    "<u> Model performance is evaluated for a range of buffer sizes around the sensors within which the environment variables are counted</u>:\n",
    "   * 50\n",
    "   * 100\n",
    "   * 200\n",
    "   * 400\n",
    "   * 500\n",
    "   * 600\n",
    "   * 1000"
   ]
  },
  {
   "cell_type": "code",
   "metadata": {
    "ExecuteTime": {
     "end_time": "2024-11-12T18:54:13.632371Z",
     "start_time": "2024-11-12T18:54:09.595334Z"
    }
   },
   "source": [
    "import pandas as pd\n",
    "from sklearn.linear_model import LinearRegression\n",
    "from sklearn.preprocessing import StandardScaler\n",
    "from sklearn.model_selection import KFold\n",
    "import numpy as np\n",
    "from sklearn.ensemble import RandomForestRegressor, ExtraTreesRegressor \n",
    "# import xgboost as xgb\n",
    "from sklearn.pipeline import Pipeline\n",
    "import folium\n",
    "import branca.colormap as cm\n",
    "# from eli5.sklearn import PermutationImportance\n",
    "import joblib\n",
    "import os\n",
    "import psutil\n",
    "\n",
    "\n",
    "from Functions import *"
   ],
   "outputs": [
    {
     "name": "stderr",
     "output_type": "stream",
     "text": [
      "/opt/homebrew/anaconda3/envs/py310/lib/python3.10/site-packages/dask/dataframe/_pyarrow_compat.py:15: FutureWarning: Minimal version of pyarrow will soon be increased to 14.0.1. You are using 12.0.1. Please consider upgrading.\n",
      "  warnings.warn(\n"
     ]
    }
   ],
   "execution_count": 1
  },
  {
   "cell_type": "markdown",
   "metadata": {},
   "source": [
    "## Run models with cross-validation"
   ]
  },
  {
   "cell_type": "markdown",
   "metadata": {},
   "source": [
    "### Define the error metrics for the cross-validation to return, and the parameters of the cross validation"
   ]
  },
  {
   "cell_type": "code",
   "metadata": {
    "ExecuteTime": {
     "end_time": "2024-11-12T18:54:13.637771Z",
     "start_time": "2024-11-12T18:54:13.635744Z"
    }
   },
   "source": [
    "error_metrics = ['neg_mean_absolute_error', 'r2', 'neg_root_mean_squared_error', 'neg_mean_absolute_percentage_error']\n",
    "cv_parameters = KFold(n_splits=10, random_state=1, shuffle=True)"
   ],
   "outputs": [],
   "execution_count": 2
  },
  {
   "cell_type": "markdown",
   "metadata": {},
   "source": [
    "### Use CV to return error metrics for the datasets produced with different buffer sizes"
   ]
  },
  {
   "metadata": {},
   "cell_type": "raw",
   "source": [
    "buffer_size_m = 400\n",
    "# Read in data\n",
    "input_csv =\"../Cleaned_data/FormattedDataForModelling/formatted_data_for_modelling_allsensors_{}_outlierremovaleachsensor.csv\".format(buffer_size_m)\n",
    "Xfull, Yfull,data_time_columns, index_2019 = prepare_x_y_data(input_csv)"
   ]
  },
  {
   "cell_type": "code",
   "metadata": {
    "jupyter": {
     "is_executing": true
    },
    "ExecuteTime": {
     "start_time": "2024-11-12T18:54:13.762792Z"
    }
   },
   "source": [
    "# Dataframe to store the scores for all the models\n",
    "error_metric_scores = pd.DataFrame()\n",
    "\n",
    "# Set up model pipeline\n",
    "model = Pipeline(steps=[['scaler',StandardScaler()],['rf_regressor', RandomForestRegressor(random_state = 1, n_jobs = 10)]])\n",
    "\n",
    "# Define parameters\n",
    "model_name = 'rf_regressor'\n",
    "\n",
    "# Make sure the directories exist\n",
    "os.makedirs('Results/CV/ComparingBufferSizes', exist_ok=True)\n",
    "\n",
    "# Loop through each buffer size option\n",
    "for buffer_size_m in buffer_sizes() :\n",
    "    print(buffer_size_m)\n",
    "    # Read in data\n",
    "    input_csv =\"../Cleaned_data/FormattedDataForModelling/formatted_data_for_modelling_allsensors_{}_outlierremovaleachsensor.csv\".format(buffer_size_m)\n",
    "    Xfull, Yfull,data_time_columns, index_2019 = prepare_x_y_data(input_csv)\n",
    "    \n",
    "    # Remove year\n",
    "    del Xfull['year']\n",
    "    \n",
    "    # Cut off data post-Covid\n",
    "    Xfull= Xfull[0:index_2019]\n",
    "    Yfull= Yfull[0:index_2019]\n",
    "    data_time_columns = data_time_columns[0:index_2019]\n",
    "\n",
    "    # Drop dummy varables\n",
    "    #Xfull.drop(['Monday', 'Saturday', 'Sunday', 'Thursday', 'Tuesday', 'Wednesday',\n",
    "    #   'month_2', 'month_3', 'month_4', 'month_5', 'month_6', 'month_7',\n",
    "    #   'month_8', 'month_9', 'month_10', 'month_11', 'month_12'], axis=1, inplace = True)\n",
    "    # In the new (NM) version the only variable to drop is the text day of year\n",
    "    Xfull.drop(['day'], axis=1, inplace = True)\n",
    "    \n",
    "    # Use cross_validate to return the error scores associated with this model and this data\n",
    "    start = time()\n",
    "    model_output = cross_validate(model, Xfull, Yfull, cv=cv_parameters, scoring=error_metrics, error_score=\"raise\")\n",
    "    end = time()\n",
    "    print('Ran in {} minutes'.format(round((end - start)/60),2))\n",
    "    \n",
    "    # Formulate the different error scores into a dataframe\n",
    "    error_metrics_df =pd.DataFrame({'mae': round(abs(model_output['test_neg_mean_absolute_error'].mean()),2), \n",
    "                  'mape': round(abs(model_output['test_neg_mean_absolute_percentage_error'].mean()),2),\n",
    "                  'r2': round(abs(model_output['test_r2'].mean()),2), \n",
    "                  'rmse': round(abs(model_output['test_neg_root_mean_squared_error'].mean()),2)},\n",
    "                 index =[\"{}\".format(buffer_size_m)])\n",
    "        \n",
    "    # Add evaluation metric scores for this model to the dataframe containing the metrics for each model\n",
    "    error_metric_scores = pd.concat([error_metric_scores, error_metrics_df])\n",
    "    # Save error scores for this distance to file\n",
    "    error_metrics_df.to_csv('Results/CV/ComparingBufferSizes/{}/{}_error_metrics_{}m_outlierremovaleachsensor.csv'.format(buffer_size_m, model_name,buffer_size_m),index=False)    \n",
    "\n",
    "# Save dataframes of error metrics for each buffer distance \n",
    "error_metric_scores.to_csv('Results/CV/ComparingBufferSizes/error_metric_scores__outlierremovaleachsensor.csv')   "
   ],
   "outputs": [
    {
     "name": "stdout",
     "output_type": "stream",
     "text": [
      "50\n"
     ]
    },
    {
     "name": "stderr",
     "output_type": "stream",
     "text": [
      "/Users/geonsm/gp/footfall/MelbourneAnalysis/3. Modelling/Functions.py:28: DtypeWarning: Columns (5,7,8) have mixed types. Specify dtype option on import or set low_memory=False.\n",
      "  data = pd.read_csv(input_csv, index_col = False)\n"
     ]
    }
   ],
   "execution_count": null
  },
  {
   "cell_type": "markdown",
   "metadata": {},
   "source": [
    "### Print table showing error metrics associated with each buffer size"
   ]
  },
  {
   "cell_type": "code",
   "execution_count": null,
   "metadata": {},
   "outputs": [],
   "source": [
    "# error_metric_scores = pd.DataFrame()\n",
    "# for buffer_size_m in [400,500,600,1000]:\n",
    "#     csv =pd.read_csv('Results/CV/ComparingBufferSizes/{}/{}_error_metrics_{}m.csv'.format(buffer_size_m, model_name,buffer_size_m))\n",
    "#     csv.insert (0, \"buffer_size\", buffer_size_m)\n",
    "#     error_metric_scores = error_metric_scores.append(csv)"
   ]
  },
  {
   "cell_type": "code",
   "execution_count": null,
   "metadata": {},
   "outputs": [],
   "source": [
    "# error_metric_scores.to_csv('Results/CV/ComparingBufferSizes/error_metric_scores_new.csv')   "
   ]
  }
 ],
 "metadata": {
  "hide_input": false,
  "kernelspec": {
   "display_name": "Python 3 (ipykernel)",
   "language": "python",
   "name": "python3"
  },
  "language_info": {
   "codemirror_mode": {
    "name": "ipython",
    "version": 3
   },
   "file_extension": ".py",
   "mimetype": "text/x-python",
   "name": "python",
   "nbconvert_exporter": "python",
   "pygments_lexer": "ipython3",
   "version": "3.7.16"
  }
 },
 "nbformat": 4,
 "nbformat_minor": 4
}
