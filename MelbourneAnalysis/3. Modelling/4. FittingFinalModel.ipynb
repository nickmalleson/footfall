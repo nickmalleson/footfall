{
 "cells": [
  {
   "cell_type": "markdown",
   "metadata": {},
   "source": [
    "# Fitting the final model\n",
    "<u>Tests using the following models :</u>\n",
    "* Linear regression\n",
    "* Random forest regressor\n",
    "* Ridge and Lasso Regularization (add on to linear modelling?)\n",
    "\n",
    "<u> Tests using the following variables:</u>\n",
    "* Weather variables (rain, temperature, windspeed)\n",
    "* Time variables (Day of week, month, year, time of day, public holiday)\n",
    "* Sensor environment variables:\n",
    "    * Sensor_id\n",
    "    * Betweenness of the street \n",
    "    * Buildings in proximity to the sensor\n",
    "    * Landmarks in proximity to the sensor  \n",
    "    * Furniture in proximity to the sensor    \n",
    "    * Lights in proximity to the sensor   "
   ]
  },
  {
   "cell_type": "code",
   "metadata": {
    "ExecuteTime": {
     "end_time": "2024-11-15T06:27:59.087511Z",
     "start_time": "2024-11-15T06:27:57.207219Z"
    }
   },
   "source": [
    "# import copy\n",
    "import pandas as pd\n",
    "# from sklearn.linear_model import LinearRegression, Ridge, Lasso, ElasticNet\n",
    "# from sklearn.preprocessing import StandardScaler\n",
    "# from sklearn.model_selection import train_test_split, cross_val_score, GridSearchCV\n",
    "# import numpy as np\n",
    "# import matplotlib.pyplot as plt\n",
    "# from sklearn.metrics import classification_report, mean_squared_error,r2_score, accuracy_score, mean_absolute_error, mean_absolute_percentage_error\n",
    "# from sklearn.tree import DecisionTreeRegressor\n",
    "from sklearn.ensemble import RandomForestRegressor, ExtraTreesRegressor\n",
    "# from sklearn.preprocessing import MinMaxScaler\n",
    "# import time as thetime\n",
    "# from sklearn.model_selection import cross_validate\n",
    "# from xgboost import XGBClassifier, XGBRegressor\n",
    "# from time import time\n",
    "# from sklearn.inspection import permutation_importance\n",
    "# from scipy import stats\n",
    "\n",
    "# from eli5.sklearn import PermutationImportance\n",
    "from sklearn.model_selection import cross_val_predict\n",
    "\n",
    "from warnings import simplefilter\n",
    "simplefilter(action='ignore', category=FutureWarning)\n",
    "\n",
    "from Functions import *\n",
    "import joblib"
   ],
   "outputs": [],
   "execution_count": 1
  },
  {
   "cell_type": "markdown",
   "metadata": {},
   "source": [
    "## Prepare data for modelling"
   ]
  },
  {
   "cell_type": "code",
   "metadata": {
    "ExecuteTime": {
     "end_time": "2024-11-15T06:28:51.100543Z",
     "start_time": "2024-11-15T06:28:31.342011Z"
    }
   },
   "source": [
    "buffer_size_m=400\n",
    "input_csv =\"../Cleaned_data/FormattedDataForModelling/formatted_data_for_modelling_allsensors_{}_outlierremovaleachsensor.csv\".format(buffer_size_m)\n",
    "Xfull, Yfull,data_time_columns, index2019 = prepare_x_y_data(input_csv)"
   ],
   "outputs": [
    {
     "name": "stderr",
     "output_type": "stream",
     "text": [
      "/Users/geonsm/gp/footfall/MelbourneAnalysis/3. Modelling/Functions.py:28: DtypeWarning: Columns (5,7,8) have mixed types. Specify dtype option on import or set low_memory=False.\n",
      "  data = pd.read_csv(input_csv, index_col = False)\n"
     ]
    }
   ],
   "execution_count": 3
  },
  {
   "cell_type": "markdown",
   "metadata": {},
   "source": [
    "### Cut off data post-Covid"
   ]
  },
  {
   "cell_type": "code",
   "metadata": {
    "ExecuteTime": {
     "end_time": "2024-11-15T06:28:51.106500Z",
     "start_time": "2024-11-15T06:28:51.104048Z"
    }
   },
   "source": [
    "#Xfull= Xfull[0:2643750]\n",
    "#Yfull= Yfull[0:2643750]\n",
    "Xfull= Xfull[0:index2019]\n",
    "Yfull= Yfull[0:index2019]\n",
    "data_time_columns = data_time_columns[0:2643750]"
   ],
   "outputs": [],
   "execution_count": 4
  },
  {
   "cell_type": "markdown",
   "metadata": {},
   "source": [
    "### Remove year"
   ]
  },
  {
   "cell_type": "code",
   "metadata": {
    "ExecuteTime": {
     "end_time": "2024-11-15T06:29:08.135212Z",
     "start_time": "2024-11-15T06:29:08.132386Z"
    }
   },
   "source": [
    "del Xfull['year']"
   ],
   "outputs": [],
   "execution_count": 5
  },
  {
   "cell_type": "markdown",
   "metadata": {},
   "source": [
    "### Choose which month_num and weekday_num option to include"
   ]
  },
  {
   "cell_type": "code",
   "metadata": {
    "ExecuteTime": {
     "end_time": "2024-11-15T06:29:09.566989Z",
     "start_time": "2024-11-15T06:29:09.302763Z"
    }
   },
   "source": [
    "# In the new (NM) version the only variable to drop is the text day of year\n",
    "Xfull.drop(['day'], axis=1, inplace = True)\n",
    "\n",
    "## If using the dummy variables\n",
    "## Xfull.drop(['Cos_month_num', 'Sin_month_num', 'Cos_weekday_num', 'Sin_weekday_num'], axis=1)\n",
    "## If using the cyclical variables\n",
    "#Xfull.drop(['Monday', 'Saturday', 'Sunday', 'Thursday', 'Tuesday', 'Wednesday',\n",
    "#       'month_2', 'month_3', 'month_4', 'month_5', 'month_6', 'month_7',\n",
    "#       'month_8', 'month_9', 'month_10', 'month_11', 'month_12'], axis=1, inplace = True)"
   ],
   "outputs": [],
   "execution_count": 6
  },
  {
   "cell_type": "code",
   "metadata": {
    "ExecuteTime": {
     "end_time": "2024-11-15T06:29:11.108924Z",
     "start_time": "2024-11-15T06:29:11.104875Z"
    }
   },
   "source": [
    "Xfull.columns"
   ],
   "outputs": [
    {
     "data": {
      "text/plain": [
       "Index(['month', 'new_sensor', 'Temp', 'Humidity', 'Pressure', 'Rain',\n",
       "       'WindSpeed', 'Rainfall amount (millimetres)', 'public_holiday',\n",
       "       'school_holiday', 'betweenness', 'lights', 'memorials', 'trees',\n",
       "       'transport_stops', 'bus-stops', 'tram-stops', 'metro-stations',\n",
       "       'taxi-ranks', 'big-car-parks', 'street_inf_Bicycle Rails',\n",
       "       'street_inf_Bollard', 'street_inf_Drinking Fountain',\n",
       "       'street_inf_Floral Crate/Planter Box', 'street_inf_Horse Trough',\n",
       "       'street_inf_Information Pillar', 'street_inf_Litter Bin',\n",
       "       'street_inf_Seat', 'street_inf_Tree Guard', 'landmarks_Community Use',\n",
       "       'landmarks_Mixed Use', 'landmarks_Place Of Assembly',\n",
       "       'landmarks_Place of Worship', 'landmarks_Retail', 'landmarks_Transport',\n",
       "       'landmarks_Education Centre', 'landmarks_Office', 'street_inf_Hoop',\n",
       "       'street_inf_Picnic Setting', 'landmarks_Leisure/Recreation',\n",
       "       'street_inf_Barbeque', 'landmarks_Specialist Residential Accommodation',\n",
       "       'landmarks_Vacant Land', 'landmarks_Purpose Built',\n",
       "       'landmarks_Health Services', 'avg_n_floors', 'buildings_Community Use',\n",
       "       'buildings_Education', 'buildings_Entertainment', 'buildings_Events',\n",
       "       'buildings_Hospital/Clinic', 'buildings_Office', 'buildings_Parking',\n",
       "       'buildings_Residential', 'buildings_Retail', 'buildings_Storage',\n",
       "       'buildings_Unoccupied', 'buildings_Working',\n",
       "       'buildings_Public Display Area', 'buildings_Transport', 'Sin_time',\n",
       "       'Cos_time', 'Sin_month_num', 'Cos_month_num', 'Sin_weekday_num',\n",
       "       'Cos_weekday_num', 'distance_from_centre', 'mean_age', 'mean_income',\n",
       "       'mean_school_year', 'random', 'random_cat'],\n",
       "      dtype='object')"
      ]
     },
     "execution_count": 7,
     "metadata": {},
     "output_type": "execute_result"
    }
   ],
   "execution_count": 7
  },
  {
   "cell_type": "markdown",
   "metadata": {},
   "source": [
    "## Fit the final model\n",
    "Random Forest with a buffer size of 400m was the best performing model from CV\n",
    "For this, we use all of the data"
   ]
  },
  {
   "cell_type": "code",
   "metadata": {
    "ExecuteTime": {
     "end_time": "2024-11-15T06:36:42.260623Z",
     "start_time": "2024-11-15T06:29:37.861994Z"
    }
   },
   "source": [
    "# Fit the final model\n",
    "rf_model_pipeline1 = Pipeline(steps=[['scaler',StandardScaler()],\n",
    "                                    ['rf_regressor',RandomForestRegressor(random_state = 1, n_jobs = 32)]])\n",
    "rf_model_pipeline1.fit(Xfull, Yfull)\n",
    "print(\"saving pickled file\")\n",
    "# Save to pickled file\n",
    "filename = f'Results/FinalModels/rf_model_pipeline1_{buffer_size_m}_outlierremovaleachsensor.pkl'\n",
    "joblib.dump(rf_model_pipeline1, filename)"
   ],
   "outputs": [
    {
     "name": "stdout",
     "output_type": "stream",
     "text": [
      "saving pickled file\n"
     ]
    },
    {
     "data": {
      "text/plain": [
       "['Results/FinalModels/rf_model_pipeline1_400_outlierremovaleachsensor.pkl']"
      ]
     },
     "execution_count": 8,
     "metadata": {},
     "output_type": "execute_result"
    }
   ],
   "execution_count": 8
  },
  {
   "cell_type": "code",
   "execution_count": 8,
   "metadata": {},
   "outputs": [],
   "source": [
    "# # Fit the final model\n",
    "# rf_model_pipeline2 = Pipeline(steps=[['scaler',StandardScaler()],\n",
    "#                                     ['rf_regressor',RandomForestRegressor(random_state = 2, n_jobs = 32)]])\n",
    "# rf_model_pipeline2.fit(Xfull, Yfull)\n",
    "# print(\"saving pickled file\")\n",
    "# # Save to pickled file\n",
    "# filename = 'Results/FinalModels/rf_model_pipeline2_{}.pkl'.format(buffer_size_m)\n",
    "# joblib.dump(rf_model_pipeline2, filename)"
   ]
  },
  {
   "cell_type": "code",
   "execution_count": 9,
   "metadata": {},
   "outputs": [],
   "source": [
    "# # Fit the final model\n",
    "# rf_model_pipeline3 = Pipeline(steps=[['scaler',StandardScaler()],\n",
    "#                                     ['rf_regressor',RandomForestRegressor(random_state = 2, n_jobs = 32)]])\n",
    "# rf_model_pipeline3.fit(Xfull, Yfull)\n",
    "# print(\"saving pickled file\")\n",
    "# # Save to pickled file\n",
    "# filename = 'Results/FinalModels/rf_model_pipeline3_{}.pkl'.format(buffer_size_m)\n",
    "# joblib.dump(rf_model_pipeline3, filename)"
   ]
  },
  {
   "cell_type": "code",
   "metadata": {
    "ExecuteTime": {
     "end_time": "2024-11-15T06:43:25.975777Z",
     "start_time": "2024-11-15T06:42:57.373129Z"
    }
   },
   "source": [
    "Xfull.to_csv(f'Results/FinalModels/Xfull_rf_model_pipeline1_{buffer_size_m}_outlierremovaleachsensor.csv', index=False)\n",
    "Yfull_df=pd.DataFrame(Yfull)\n",
    "Yfull_df.to_csv(f'Results/FinalModels/Yfull_rf_model_pipeline1_{buffer_size_m}_outlierremovaleachsensor.csv', index=False)"
   ],
   "outputs": [],
   "execution_count": 10
  },
  {
   "metadata": {},
   "cell_type": "code",
   "outputs": [],
   "execution_count": null,
   "source": ""
  }
 ],
 "metadata": {
  "hide_input": false,
  "kernelspec": {
   "display_name": "Python 3 (ipykernel)",
   "language": "python",
   "name": "python3"
  },
  "language_info": {
   "codemirror_mode": {
    "name": "ipython",
    "version": 3
   },
   "file_extension": ".py",
   "mimetype": "text/x-python",
   "name": "python",
   "nbconvert_exporter": "python",
   "pygments_lexer": "ipython3",
   "version": "3.7.15"
  }
 },
 "nbformat": 4,
 "nbformat_minor": 4
}
